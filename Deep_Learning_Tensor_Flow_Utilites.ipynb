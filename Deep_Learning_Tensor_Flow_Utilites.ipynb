{
  "nbformat": 4,
  "nbformat_minor": 0,
  "metadata": {
    "accelerator": "GPU",
    "colab": {
      "name": "Deep_Learning_Tensor_Flow_Utilites.ipynb",
      "provenance": [],
      "collapsed_sections": [
        "MLmgir1BKZ1j",
        "c-tBdEzw6q3B",
        "A-DSexiA4JbQ",
        "molZXFzhiyFb",
        "WDKa_ND9Zywx",
        "JQFJWCl1arNG",
        "-uJ6WxvYRcNY",
        "UA7mMMVoRwcL",
        "6q-tx71TTIQY",
        "76rbBMZAfbbx",
        "zWLOlxpLjrND",
        "5vqvpUaOlWFI"
      ]
    },
    "kernelspec": {
      "display_name": "Python 3",
      "language": "python",
      "name": "python3"
    },
    "language_info": {
      "codemirror_mode": {
        "name": "ipython",
        "version": 3
      },
      "file_extension": ".py",
      "mimetype": "text/x-python",
      "name": "python",
      "nbconvert_exporter": "python",
      "pygments_lexer": "ipython3",
      "version": "3.7.3"
    },
    "widgets": {
      "application/vnd.jupyter.widget-state+json": {
        "98ca440622f140d194de64a3fddf519d": {
          "model_module": "@jupyter-widgets/controls",
          "model_name": "HBoxModel",
          "state": {
            "_view_name": "HBoxView",
            "_dom_classes": [],
            "_model_name": "HBoxModel",
            "_view_module": "@jupyter-widgets/controls",
            "_model_module_version": "1.5.0",
            "_view_count": null,
            "_view_module_version": "1.5.0",
            "box_style": "",
            "layout": "IPY_MODEL_f64f108576a94c3bb537d253d5552655",
            "_model_module": "@jupyter-widgets/controls",
            "children": [
              "IPY_MODEL_cfaedc7021eb461984037510f4a87a56",
              "IPY_MODEL_31fae62eb3d04c2a9cdac613fcdc5195"
            ]
          }
        },
        "f64f108576a94c3bb537d253d5552655": {
          "model_module": "@jupyter-widgets/base",
          "model_name": "LayoutModel",
          "state": {
            "_view_name": "LayoutView",
            "grid_template_rows": null,
            "right": null,
            "justify_content": null,
            "_view_module": "@jupyter-widgets/base",
            "overflow": null,
            "_model_module_version": "1.2.0",
            "_view_count": null,
            "flex_flow": null,
            "width": null,
            "min_width": null,
            "border": null,
            "align_items": null,
            "bottom": null,
            "_model_module": "@jupyter-widgets/base",
            "top": null,
            "grid_column": null,
            "overflow_y": null,
            "overflow_x": null,
            "grid_auto_flow": null,
            "grid_area": null,
            "grid_template_columns": null,
            "flex": null,
            "_model_name": "LayoutModel",
            "justify_items": null,
            "grid_row": null,
            "max_height": null,
            "align_content": null,
            "visibility": null,
            "align_self": null,
            "height": null,
            "min_height": null,
            "padding": null,
            "grid_auto_rows": null,
            "grid_gap": null,
            "max_width": null,
            "order": null,
            "_view_module_version": "1.2.0",
            "grid_template_areas": null,
            "object_position": null,
            "object_fit": null,
            "grid_auto_columns": null,
            "margin": null,
            "display": null,
            "left": null
          }
        },
        "cfaedc7021eb461984037510f4a87a56": {
          "model_module": "@jupyter-widgets/controls",
          "model_name": "IntProgressModel",
          "state": {
            "_view_name": "ProgressView",
            "style": "IPY_MODEL_b141fe0fb24a454089ce95c2834fbfa7",
            "_dom_classes": [],
            "description": "Dl Completed...: 100%",
            "_model_name": "IntProgressModel",
            "bar_style": "success",
            "max": 4,
            "_view_module": "@jupyter-widgets/controls",
            "_model_module_version": "1.5.0",
            "value": 4,
            "_view_count": null,
            "_view_module_version": "1.5.0",
            "orientation": "horizontal",
            "min": 0,
            "description_tooltip": null,
            "_model_module": "@jupyter-widgets/controls",
            "layout": "IPY_MODEL_ebecd0cc25174a10a1fdec1684c5078b"
          }
        },
        "31fae62eb3d04c2a9cdac613fcdc5195": {
          "model_module": "@jupyter-widgets/controls",
          "model_name": "HTMLModel",
          "state": {
            "_view_name": "HTMLView",
            "style": "IPY_MODEL_e9f3ceca166a417693661a09e51ee01d",
            "_dom_classes": [],
            "description": "",
            "_model_name": "HTMLModel",
            "placeholder": "​",
            "_view_module": "@jupyter-widgets/controls",
            "_model_module_version": "1.5.0",
            "value": " 4/4 [00:08&lt;00:00,  2.23s/ file]",
            "_view_count": null,
            "_view_module_version": "1.5.0",
            "description_tooltip": null,
            "_model_module": "@jupyter-widgets/controls",
            "layout": "IPY_MODEL_f9461b7b4c354a8c9beb105049a3d07a"
          }
        },
        "b141fe0fb24a454089ce95c2834fbfa7": {
          "model_module": "@jupyter-widgets/controls",
          "model_name": "ProgressStyleModel",
          "state": {
            "_view_name": "StyleView",
            "_model_name": "ProgressStyleModel",
            "description_width": "initial",
            "_view_module": "@jupyter-widgets/base",
            "_model_module_version": "1.5.0",
            "_view_count": null,
            "_view_module_version": "1.2.0",
            "bar_color": null,
            "_model_module": "@jupyter-widgets/controls"
          }
        },
        "ebecd0cc25174a10a1fdec1684c5078b": {
          "model_module": "@jupyter-widgets/base",
          "model_name": "LayoutModel",
          "state": {
            "_view_name": "LayoutView",
            "grid_template_rows": null,
            "right": null,
            "justify_content": null,
            "_view_module": "@jupyter-widgets/base",
            "overflow": null,
            "_model_module_version": "1.2.0",
            "_view_count": null,
            "flex_flow": null,
            "width": null,
            "min_width": null,
            "border": null,
            "align_items": null,
            "bottom": null,
            "_model_module": "@jupyter-widgets/base",
            "top": null,
            "grid_column": null,
            "overflow_y": null,
            "overflow_x": null,
            "grid_auto_flow": null,
            "grid_area": null,
            "grid_template_columns": null,
            "flex": null,
            "_model_name": "LayoutModel",
            "justify_items": null,
            "grid_row": null,
            "max_height": null,
            "align_content": null,
            "visibility": null,
            "align_self": null,
            "height": null,
            "min_height": null,
            "padding": null,
            "grid_auto_rows": null,
            "grid_gap": null,
            "max_width": null,
            "order": null,
            "_view_module_version": "1.2.0",
            "grid_template_areas": null,
            "object_position": null,
            "object_fit": null,
            "grid_auto_columns": null,
            "margin": null,
            "display": null,
            "left": null
          }
        },
        "e9f3ceca166a417693661a09e51ee01d": {
          "model_module": "@jupyter-widgets/controls",
          "model_name": "DescriptionStyleModel",
          "state": {
            "_view_name": "StyleView",
            "_model_name": "DescriptionStyleModel",
            "description_width": "",
            "_view_module": "@jupyter-widgets/base",
            "_model_module_version": "1.5.0",
            "_view_count": null,
            "_view_module_version": "1.2.0",
            "_model_module": "@jupyter-widgets/controls"
          }
        },
        "f9461b7b4c354a8c9beb105049a3d07a": {
          "model_module": "@jupyter-widgets/base",
          "model_name": "LayoutModel",
          "state": {
            "_view_name": "LayoutView",
            "grid_template_rows": null,
            "right": null,
            "justify_content": null,
            "_view_module": "@jupyter-widgets/base",
            "overflow": null,
            "_model_module_version": "1.2.0",
            "_view_count": null,
            "flex_flow": null,
            "width": null,
            "min_width": null,
            "border": null,
            "align_items": null,
            "bottom": null,
            "_model_module": "@jupyter-widgets/base",
            "top": null,
            "grid_column": null,
            "overflow_y": null,
            "overflow_x": null,
            "grid_auto_flow": null,
            "grid_area": null,
            "grid_template_columns": null,
            "flex": null,
            "_model_name": "LayoutModel",
            "justify_items": null,
            "grid_row": null,
            "max_height": null,
            "align_content": null,
            "visibility": null,
            "align_self": null,
            "height": null,
            "min_height": null,
            "padding": null,
            "grid_auto_rows": null,
            "grid_gap": null,
            "max_width": null,
            "order": null,
            "_view_module_version": "1.2.0",
            "grid_template_areas": null,
            "object_position": null,
            "object_fit": null,
            "grid_auto_columns": null,
            "margin": null,
            "display": null,
            "left": null
          }
        }
      }
    }
  },
  "cells": [
    {
      "cell_type": "markdown",
      "metadata": {
        "colab_type": "text",
        "id": "13UOlrcOvkdY"
      },
      "source": [
        "# Deep Learning Tensor Flow Utilites"
      ]
    },
    {
      "cell_type": "code",
      "metadata": {
        "colab_type": "code",
        "id": "O-OvIbao_pBl",
        "outputId": "d89deffd-3626-4fab-b1af-f0b865c8f96f",
        "colab": {
          "base_uri": "https://localhost:8080/",
          "height": 34
        }
      },
      "source": [
        "from __future__ import absolute_import, division, print_function, unicode_literals\n",
        "\n",
        "# Install TensorFlow\n",
        "try:\n",
        "  # %tensorflow_version only exists in Colab.\n",
        "  %tensorflow_version 2.x\n",
        "except Exception:\n",
        "  pass\n",
        "\n",
        "import tensorflow as tf\n",
        "import matplotlib.pyplot as plt\n",
        "import numpy as np\n",
        "\n",
        "print(tf.__version__)"
      ],
      "execution_count": 0,
      "outputs": [
        {
          "output_type": "stream",
          "text": [
            "2.2.0-rc4\n"
          ],
          "name": "stdout"
        }
      ]
    },
    {
      "cell_type": "markdown",
      "metadata": {
        "colab_type": "text",
        "id": "MLmgir1BKZ1j"
      },
      "source": [
        "## Working with files and folders"
      ]
    },
    {
      "cell_type": "code",
      "metadata": {
        "colab_type": "code",
        "id": "5tytlBKLKd0G",
        "colab": {}
      },
      "source": [
        "import shutil # copy, move file\n",
        "import os # miscellaneous operation system interfaces\n",
        "import pathlib"
      ],
      "execution_count": 0,
      "outputs": []
    },
    {
      "cell_type": "code",
      "metadata": {
        "id": "in9c4symOtXN",
        "colab_type": "code",
        "colab": {}
      },
      "source": [
        ""
      ],
      "execution_count": 0,
      "outputs": []
    },
    {
      "cell_type": "markdown",
      "metadata": {
        "colab_type": "text",
        "id": "nhwDjGkn2qy3"
      },
      "source": [
        "**Document: [shutil](https://docs.python.org/3/library/shutil.html#module-shutil)**"
      ]
    },
    {
      "cell_type": "code",
      "metadata": {
        "colab_type": "code",
        "id": "vejGyz2W2xQS",
        "colab": {}
      },
      "source": [
        "# Copy the file src to the file or directory dst\n",
        "shutil.copy(src, dst)\n",
        "# !cp ./src ./dst\n",
        "\n",
        "# Move the file src to the file or directory dst\n",
        "shutil.move(src, dst)\n",
        "# !mv ./src ./dst\n",
        "\n",
        "# Removing non-empty directory\n",
        "shutil.rmtree('DemoDir/')\n",
        "# !rm -rf DemoDir/\n",
        "\n",
        "# Removing empty directory\n",
        "os.rmdir(\"demoDir/\")"
      ],
      "execution_count": 0,
      "outputs": []
    },
    {
      "cell_type": "markdown",
      "metadata": {
        "colab_type": "text",
        "id": "JpJV3oAryhrV"
      },
      "source": [
        "**Document [os](https://docs.python.org/3/library/os.html):** This module provides a portable way of using operating system dependent functionality."
      ]
    },
    {
      "cell_type": "code",
      "metadata": {
        "id": "TX0cRU-URV1k",
        "colab_type": "code",
        "colab": {}
      },
      "source": [
        "!mkdir tom"
      ],
      "execution_count": 0,
      "outputs": []
    },
    {
      "cell_type": "code",
      "metadata": {
        "colab_type": "code",
        "id": "Ic00LS4OxcSC",
        "colab": {}
      },
      "source": [
        "# Get current directory\n",
        "print(os.getcwd())\n",
        "# !pwd\n",
        "\n",
        "# Get list of environment variables\n",
        "print(os.environ)\n",
        "\n",
        "# List of the names of the entries in the directory\n",
        "print(os.listdir(path='.'))\n",
        "# !ls .\n",
        "\n",
        "# Create a directory named path\n",
        "os.mkdir(path)\n",
        "# !mkdir path\n",
        "\n",
        "# Delete the file path\n",
        "os.remove(path)\n",
        "\n",
        "# Rename the file or directory src to dst\n",
        "os.rename(src, dst)\n",
        "# !mv ./tom.txt ./nhan.txt\n",
        "\n",
        "# os.scandir(path) return an iterator of os.DirEntry\n",
        "# item.is_dir() return True if the item is a directory\n",
        "# item.is_file() return True if the item is a file\n",
        "\n",
        "# Listing subdirectories\n",
        "for item in os.scandir():\n",
        "    if item.is_dir():\n",
        "        print(item.name)"
      ],
      "execution_count": 0,
      "outputs": []
    },
    {
      "cell_type": "code",
      "metadata": {
        "colab_type": "code",
        "id": "tlf_1TPAMUYY",
        "outputId": "28cb2a6a-41e4-4f95-8254-c2d730707740",
        "colab": {
          "base_uri": "https://localhost:8080/",
          "height": 34
        }
      },
      "source": [
        "# Delete file if exists\n",
        "del_file = \"testfile.txt\"\n",
        "if os.path.isfile(del_file):\n",
        "    os.remove(del_file)\n",
        "    print(\"File removed successfully!\")\n",
        "else:\n",
        "    print(\"File does not exist!\")"
      ],
      "execution_count": 0,
      "outputs": [
        {
          "output_type": "stream",
          "text": [
            "File does not exist!\n"
          ],
          "name": "stdout"
        }
      ]
    },
    {
      "cell_type": "markdown",
      "metadata": {
        "colab_type": "text",
        "id": "j08mZ84H6g0A"
      },
      "source": [
        "\n",
        "\n",
        "**Document: [pathlib](https://docs.python.org/3/library/pathlib.html):** This module offers classes representing filesystem paths with semantics appropriate for different operating systems."
      ]
    },
    {
      "cell_type": "code",
      "metadata": {
        "colab_type": "code",
        "id": "wNZX3lMHzYIF",
        "colab": {}
      },
      "source": [
        "# Listing subdirectories\n",
        "path_root = pathlib.Path('.')\n",
        "print([x.name for x in path_root.iterdir() if x.is_dir()])"
      ],
      "execution_count": 0,
      "outputs": []
    },
    {
      "cell_type": "code",
      "metadata": {
        "colab_type": "code",
        "id": "23xRsy9F65a-",
        "colab": {}
      },
      "source": [
        "# Get parent directory\n",
        "path = pathlib.Path('./sample_data')\n",
        "str(path.parent)"
      ],
      "execution_count": 0,
      "outputs": []
    },
    {
      "cell_type": "code",
      "metadata": {
        "colab_type": "code",
        "id": "cmDZ7iwc70wY",
        "colab": {}
      },
      "source": [
        "os.path.dirname('./sample_data')"
      ],
      "execution_count": 0,
      "outputs": []
    },
    {
      "cell_type": "code",
      "metadata": {
        "colab_type": "code",
        "id": "j8eLrKb98YWX",
        "colab": {}
      },
      "source": [
        "# List Python source files\n",
        "p = pathlib.Path('./sample_data')\n",
        "list(p.glob('**/*.py'))"
      ],
      "execution_count": 0,
      "outputs": []
    },
    {
      "cell_type": "code",
      "metadata": {
        "colab_type": "code",
        "id": "aiktiKGDNwly",
        "colab": {}
      },
      "source": [
        "# Write a file\n",
        "path = Path('.editorconfig')\n",
        "with path.open(mode='wt') as config:\n",
        "    config.write('# config goes here')"
      ],
      "execution_count": 0,
      "outputs": []
    },
    {
      "cell_type": "code",
      "metadata": {
        "colab_type": "code",
        "id": "_3czjMiKzJ7t",
        "colab": {}
      },
      "source": [
        "# Count number of files\n",
        "!ls  ../data/train/*/* | wc -l\n",
        "!ls  ../data/test/*/* | wc -l"
      ],
      "execution_count": 0,
      "outputs": []
    },
    {
      "cell_type": "markdown",
      "metadata": {
        "colab_type": "text",
        "id": "WN5e8J-7OlU3"
      },
      "source": [
        "## Get Data\n",
        "\n",
        "Documentation [tf.data.Dataset](https://www.tensorflow.org/api_docs/python/tf/data/Dataset), read data [from_generator](https://www.tensorflow.org/api_docs/python/tf/data/Dataset?version=stable#from_generator), [from_tensor_slices](https://www.tensorflow.org/api_docs/python/tf/data/Dataset?version=stable#from_tensor_slices)\n",
        "\n",
        "Documentation [ImageDataGenerator](https://www.tensorflow.org/api_docs/python/tf/keras/preprocessing/image/ImageDataGenerator?version=stable). Read data [flow_from_dataframe](https://www.tensorflow.org/api_docs/python/tf/keras/preprocessing/image/ImageDataGenerator?version=stable#flow_from_dataframe), [flow_from_directory](https://www.tensorflow.org/api_docs/python/tf/keras/preprocessing/image/ImageDataGenerator?version=stable#flow_from_directory)\n",
        "\n",
        "[TensorFlow Datasets](https://github.com/tensorflow/datasets/tree/master/docs): A collection of datasets ready to use with TensorFlow. Return tf.data.Dataset\n",
        "\n",
        "[tf.keras.datasets](https://www.tensorflow.org/api_docs/python/tf/keras/datasets): Keras built-in datasets. Return tuple of Numpy arrays\n",
        "\n",
        "https://www.tensorflow.org/guide/data_performance"
      ]
    },
    {
      "cell_type": "markdown",
      "metadata": {
        "colab_type": "text",
        "id": "bqssVxUEiood"
      },
      "source": [
        "### **tf.data.Dataset**"
      ]
    },
    {
      "cell_type": "markdown",
      "metadata": {
        "id": "c-tBdEzw6q3B",
        "colab_type": "text"
      },
      "source": [
        "#### Without Augmentation"
      ]
    },
    {
      "cell_type": "code",
      "metadata": {
        "colab_type": "code",
        "id": "G9me40zDiqwQ",
        "colab": {}
      },
      "source": [
        "ds = tf.data.Dataset.from_tensor_slices((all_image_paths, all_image_labels))\n",
        "\n",
        "# The tuples are unpacked into the positional arguments of the mapped function\n",
        "def load_and_preprocess_from_path_label(path, label):\n",
        "    return load_and_preprocess_image(path), label\n",
        "\n",
        "image_label_ds = ds.map(load_and_preprocess_from_path_label)\n",
        "\n",
        "BATCH_SIZE = 32\n",
        "AUTOTUNE = tf.data.experimental.AUTOTUNE\n",
        "\n",
        "\n",
        "# Setting a shuffle buffer size as large as the dataset ensures that the data is\n",
        "# completely shuffled.\n",
        "ds = image_label_ds.shuffle(buffer_size=image_count)\n",
        "ds = ds.repeat()\n",
        "ds = ds.batch(BATCH_SIZE)\n",
        "# prefetch lets the dataset fetch batches in the background while the model is training.\n",
        "ds = ds.prefetch(buffer_size=AUTOTUNE)"
      ],
      "execution_count": 0,
      "outputs": []
    },
    {
      "cell_type": "markdown",
      "metadata": {
        "id": "A-DSexiA4JbQ",
        "colab_type": "text"
      },
      "source": [
        "#### With Augmentation"
      ]
    },
    {
      "cell_type": "code",
      "metadata": {
        "id": "tP3Rc-Gh43GZ",
        "colab_type": "code",
        "colab": {}
      },
      "source": [
        "IMAGE_WIDTH, IMAGE_HEIGHT = 192, 192\n",
        "\n",
        "def resize_image(image):\n",
        "    image = tf.image.decode_jpeg(image, channels=3)\n",
        "    image = tf.image.resize(image, [IMAGE_WIDTH, IMAGE_HEIGHT])\n",
        "    return image\n",
        "\n",
        "def load_and_resize_image(path):\n",
        "    image = tf.io.read_file(path)\n",
        "    return resize_image(image)\n",
        "\n",
        "def images_preprocessing_and_saving(folder_path, image_paths, image_labels):\n",
        "    new_paths = []\n",
        "    for index, image_path in enumerate(image_paths):\n",
        "        try:\n",
        "            file_name = '{}.jpg'.format(index)\n",
        "            new_path = os.path.join(folder_path, image_labels[index], file_name)\n",
        "            preprocessed_image = load_and_resize_image(image_path)\n",
        "            tf.keras.preprocessing.image.save_img(new_path, preprocessed_image, data_format='channels_last')\n",
        "            new_paths.append(new_path)\n",
        "            if (index % 100 == 0) and (index > 0):\n",
        "                print('Processed {} images '.format(index))\n",
        "        except:\n",
        "            print(\"File error {}\".format(image_path))\n",
        "    return new_paths\n",
        "\n",
        "def show_batch(image_batch, label_batch):\n",
        "    '''Show batch of 25 images.\n",
        "    \n",
        "    Parameters:\n",
        "        image_batch: paths to the images, len(image_path) >= 25\n",
        "        label_batch: labels of the images (str)\n",
        "    '''\n",
        "    plt.figure(figsize=(10,10))\n",
        "    for n in range(25):\n",
        "        ax = plt.subplot(5,5,n+1)\n",
        "        plt.imshow(image_batch[n])\n",
        "        plt.title(label_batch[n].title())\n",
        "        plt.axis('off')"
      ],
      "execution_count": 0,
      "outputs": []
    },
    {
      "cell_type": "code",
      "metadata": {
        "id": "lCdf4u1o5n0p",
        "colab_type": "code",
        "colab": {}
      },
      "source": [
        "image_batch = [load_and_resize_image(path)/255 for path in train_image_paths[:25]]\n",
        "label_batch = train_image_labels[:25]\n",
        "show_batch(image_batch , label_batch)"
      ],
      "execution_count": 0,
      "outputs": []
    },
    {
      "cell_type": "code",
      "metadata": {
        "id": "bpttJZBr5oRC",
        "colab_type": "code",
        "colab": {}
      },
      "source": [
        "train_image_paths = images_preprocessing_and_saving(DATA_TRAIN_FOLDER, train_image_paths, train_image_labels)\n",
        "test_image_paths = images_preprocessing_and_saving(DATA_TEST_FOLDER, test_image_paths, test_image_labels)"
      ],
      "execution_count": 0,
      "outputs": []
    },
    {
      "cell_type": "code",
      "metadata": {
        "id": "jbM_RLce6Dwr",
        "colab_type": "code",
        "colab": {}
      },
      "source": [
        "TRAIN_SAMPLES = 1229\n",
        "TEST_SAMPLES = 308\n",
        "BATCH_SIZE = 32\n",
        "\n",
        "AUTOTUNE = tf.data.experimental.AUTOTUNE\n",
        "STEPS_PER_TRAIN_EPOCH = tf.math.ceil(TRAIN_SAMPLES/BATCH_SIZE)\n",
        "STEPS_PER_TEST_EPOCH = tf.math.ceil(TEST_SAMPLES/BATCH_SIZE)"
      ],
      "execution_count": 0,
      "outputs": []
    },
    {
      "cell_type": "code",
      "metadata": {
        "id": "7ENbzOHV6GdP",
        "colab_type": "code",
        "colab": {}
      },
      "source": [
        "train_ds = tf.data.Dataset.list_files(os.path.join(DATA_TRAIN_FOLDER, '*','*'))\n",
        "test_ds = tf.data.Dataset.list_files(os.path.join(DATA_TEST_FOLDER, '*','*'))\n",
        "\n",
        "for f in train_ds.take(5):\n",
        "    print(f.numpy())\n",
        "\n",
        "def get_label(file_path):\n",
        "    # convert the path to a list of path components\n",
        "    parts = tf.strings.split(file_path, os.path.sep)\n",
        "    # The second to last is the class-directory\n",
        "    return parts[-2] == class_names\n",
        "\n",
        "def preprocess(path):\n",
        "    label = get_label(path)\n",
        "    image = tf.io.read_file(path)\n",
        "    image = tf.image.decode_jpeg(image, channels=3)\n",
        "    # Use `convert_image_dtype` to convert to floats in the [0,1] range.\n",
        "    image = tf.image.convert_image_dtype(image, tf.float32)\n",
        "    image = (image*2) - 1  # normalize to [-1,1] range\n",
        "    image = tf.image.per_image_standardization(image)\n",
        "    return image, label\n",
        "\n",
        "def augmentation(image, label):\n",
        "    image = tf.image.random_brightness(image, .1)\n",
        "    image = tf.image.random_contrast(image, lower=0.0, upper=1.0)\n",
        "    image = tf.image.random_flip_left_right(image)\n",
        "    image = tf.image.random_flip_up_down(image)\n",
        "    return image, label\n",
        "    \n",
        "def prepare_for_training(ds, cache=True, shuffle_buffer_size=100, augment=False):\n",
        "    # This is a small dataset, only load it once, and keep it in memory.\n",
        "    # use `.cache(filename)` to cache preprocessing work for datasets that don't\n",
        "    # fit in memory.\n",
        "    if cache:\n",
        "        if isinstance(cache, str):\n",
        "            ds = ds.cache(cache)\n",
        "        else:\n",
        "            ds = ds.cache()\n",
        "\n",
        "    ds = ds.shuffle(buffer_size=shuffle_buffer_size)\n",
        "\n",
        "    # Repeat forever\n",
        "    ds = ds.repeat()\n",
        "    ds = ds.batch(BATCH_SIZE)\n",
        "    \n",
        "    if augment:\n",
        "        ds.map(augmentation, num_parallel_calls=AUTOTUNE)\n",
        "\n",
        "    # `prefetch` lets the dataset fetch batches in the background while the model\n",
        "    # is training.\n",
        "    ds = ds.prefetch(buffer_size=AUTOTUNE)\n",
        "\n",
        "    return ds\n",
        "\n",
        "train_ds = train_ds.map(preprocess, num_parallel_calls=AUTOTUNE)\n",
        "test_ds = test_ds.map(preprocess, num_parallel_calls=AUTOTUNE)\n",
        "\n",
        "for image, label in train_ds.take(1):\n",
        "    print(\"Image shape: \", image.numpy().shape)\n",
        "    print(\"Label: \", label.numpy())"
      ],
      "execution_count": 0,
      "outputs": []
    },
    {
      "cell_type": "code",
      "metadata": {
        "id": "0-Fddy7d6LPP",
        "colab_type": "code",
        "colab": {}
      },
      "source": [
        "train_ds = prepare_for_training(train_ds, shuffle_buffer_size=TRAIN_SAMPLES, augment=True)\n",
        "test_ds = prepare_for_training(test_ds, cache=False, shuffle_buffer_size=TEST_SAMPLES)\n",
        "\n",
        "image_batch, label_batch = next(iter(train_ds))\n",
        "label_batch = [class_names[np.argmax(label)] for label in label_batch.numpy()]\n",
        "show_batch(image_batch, label_batch)"
      ],
      "execution_count": 0,
      "outputs": []
    },
    {
      "cell_type": "markdown",
      "metadata": {
        "colab_type": "text",
        "id": "molZXFzhiyFb"
      },
      "source": [
        "### **ImageDataGenerator**"
      ]
    },
    {
      "cell_type": "markdown",
      "metadata": {
        "colab_type": "text",
        "id": "0ZgHl31F79av"
      },
      "source": [
        "* flow_from_dataframe"
      ]
    },
    {
      "cell_type": "code",
      "metadata": {
        "colab_type": "code",
        "id": "vfb6UYoPiyo4",
        "colab": {}
      },
      "source": [
        "import pandas as pd\n",
        "\n",
        "image_generator = tf.keras.preprocessing.image.ImageDataGenerator(\n",
        "    rescale=1./255, \n",
        "    rotation_range=20,\n",
        "    zoom_range=0.15,\n",
        "    width_shift_range=0.2,\n",
        "    height_shift_range=0.2,\n",
        "    shear_range=0.15,\n",
        "    horizontal_flip=True,\n",
        "    vertical_flip=True,\n",
        "    fill_mode=\"nearest\"\n",
        ")\n",
        "\n",
        "df = pd.DataFrame({'paths':train_image_paths, 'labels':label_names[train_image_labels]})\n",
        "\n",
        "image_data = image_generator.flow_from_dataframe(df,\n",
        "                                                 x_col='paths',\n",
        "                                                 y_col='labels',\n",
        "                                                 class_mode='sparse',\n",
        "                                                 target_size=(192,192))"
      ],
      "execution_count": 0,
      "outputs": []
    },
    {
      "cell_type": "markdown",
      "metadata": {
        "colab_type": "text",
        "id": "hgvQk7NX8BN1"
      },
      "source": [
        "* flow_from_directory"
      ]
    },
    {
      "cell_type": "code",
      "metadata": {
        "colab_type": "code",
        "id": "s9QKTR_o7vkD",
        "colab": {}
      },
      "source": [
        "train_datagen = ImageDataGenerator(preprocessing_function=preprocess_input,\n",
        "                                   rotation_range=20,\n",
        "                                   width_shift_range=0.2,\n",
        "                                   height_shift_range=0.2,\n",
        "                                   zoom_range=0.2)\n",
        "val_datagen = ImageDataGenerator(preprocessing_function=preprocess_input)\n",
        "\n",
        "train_generator = train_datagen.flow_from_directory(\n",
        "                        TRAIN_DATA_DIR,\n",
        "                        target_size=(IMG_WIDTH, IMG_HEIGHT),\n",
        "                        batch_size=BATCH_SIZE,\n",
        "                        shuffle=True,\n",
        "                        seed=102,\n",
        "                        class_mode='categorical')\n",
        "validation_generator = val_datagen.flow_from_directory(\n",
        "                        VALIDATION_DATA_DIR,\n",
        "                        target_size=(IMG_WIDTH, IMG_HEIGHT),\n",
        "                        batch_size=BATCH_SIZE,\n",
        "                        shuffle=False,\n",
        "                        class_mode='categorical')\n",
        "\n",
        "model = build_model()\n",
        "model.compile(loss='categorical_crossentropy',\n",
        "              optimizer= tf.keras.optimizers.Adam(lr=0.001),\n",
        "              metrics=['acc'])\n",
        "num_steps_train = math.ceil(float(TRAIN_SAMPLES)/BATCH_SIZE)              \n",
        "num_steps_val = math.ceil(float(VALIDATION_SAMPLES)/BATCH_SIZE)\n",
        "model.fit_generator(train_generator,\n",
        "          steps_per_epoch = num_steps_train,\n",
        "          epochs=10,\n",
        "          validation_data = validation_generator,\n",
        "          validation_steps = num_steps_val)"
      ],
      "execution_count": 0,
      "outputs": []
    },
    {
      "cell_type": "markdown",
      "metadata": {
        "id": "WuwJMhnA2RTg",
        "colab_type": "text"
      },
      "source": [
        "### Dataset sources"
      ]
    },
    {
      "cell_type": "markdown",
      "metadata": {
        "colab_type": "text",
        "id": "WDKa_ND9Zywx"
      },
      "source": [
        "#### **tensorflow_datasets**"
      ]
    },
    {
      "cell_type": "code",
      "metadata": {
        "colab_type": "code",
        "id": "bw7sH0muOm4S",
        "colab": {}
      },
      "source": [
        "import tensorflow_datasets as tfds\n",
        "\n",
        "mnist = tfds.image.MNIST()\n",
        "\n",
        "# Describe the dataset with DatasetInfo\n",
        "assert mnist.info.features['image'].shape == (28, 28, 1)\n",
        "assert mnist.info.features['label'].num_classes == 10\n",
        "assert mnist.info.splits['train'].num_examples == 60000\n",
        "assert mnist.info.splits['test'].num_examples == 10000\n",
        "\n",
        "# Download the data, prepare it, and write it to disk\n",
        "mnist.download_and_prepare()\n",
        "\n",
        "# Load data from disk as tf.data.Datasets\n",
        "datasets = mnist.as_dataset()\n",
        "train_dataset, test_dataset = datasets['train'], datasets['test']\n",
        "assert isinstance(train_dataset, tf.data.Dataset)"
      ],
      "execution_count": 0,
      "outputs": []
    },
    {
      "cell_type": "code",
      "metadata": {
        "colab_type": "code",
        "id": "tDjnH2obOnDI",
        "colab": {}
      },
      "source": [
        "print(train_dataset.element_spec)\n",
        "print(mnist.info)\n",
        "tfds.show_examples(mnist.info, test_dataset)"
      ],
      "execution_count": 0,
      "outputs": []
    },
    {
      "cell_type": "code",
      "metadata": {
        "colab_type": "code",
        "id": "rUTF_nWTOnGu",
        "colab": {}
      },
      "source": [
        "for mnist_example in train_dataset.take(1):  # Only take a single example\n",
        "    image, label = mnist_example[\"image\"], mnist_example[\"label\"]\n",
        "\n",
        "    plt.imshow(image.numpy()[:, :, 0].astype(np.float32), cmap=plt.get_cmap(\"gray\"))\n",
        "    print(\"Label: %d\" % label.numpy())"
      ],
      "execution_count": 0,
      "outputs": []
    },
    {
      "cell_type": "code",
      "metadata": {
        "colab_type": "code",
        "id": "jssiOKlIOnKU",
        "colab": {}
      },
      "source": [
        "BATCH_SIZE = 128\n",
        "NUM_EXAMPLES = 60000\n",
        "NUM_TESTING = 10000\n",
        "\n",
        "def preprocess(ds):\n",
        "    \"\"\"Puts the mnist dataset in the format Keras expects, (features, labels).\"\"\"\n",
        "    x = tf.cast(ds['image'], tf.float32) / 255.0\n",
        "    return x, ds['label']\n",
        "\n",
        "train_dataset = train_dataset.map(preprocess).cache().repeat().shuffle(1024).batch(BATCH_SIZE)\n",
        "train_dataset = train_dataset.prefetch(tf.data.experimental.AUTOTUNE)\n",
        "test_dataset = test_dataset.map(preprocess).batch(BATCH_SIZE).prefetch(tf.data.experimental.AUTOTUNE)"
      ],
      "execution_count": 0,
      "outputs": []
    },
    {
      "cell_type": "code",
      "metadata": {
        "colab_type": "code",
        "id": "tWRTFG1_OnOZ",
        "colab": {}
      },
      "source": [
        "# shorter way\n",
        "mnist_data = tfds.load('mnist')\n",
        "mnist_train, mnist_test = mnist_data['train'], mnist_data['test']\n",
        "mnist_train = mnist_train.map(preprocess).shuffle(NUM_EXAMPLES).batch(BATCH_SIZE).repeat()\n",
        "mnist_test = mnist_test.map(preprocess).batch(BATCH_SIZE)"
      ],
      "execution_count": 0,
      "outputs": []
    },
    {
      "cell_type": "markdown",
      "metadata": {
        "colab_type": "text",
        "id": "JQFJWCl1arNG"
      },
      "source": [
        "#### **tf.keras.datasets**"
      ]
    },
    {
      "cell_type": "code",
      "metadata": {
        "colab_type": "code",
        "id": "NypJ4vVWOnSD",
        "colab": {}
      },
      "source": [
        "from tensorflow.keras.datasets import fashion_mnist\n",
        "\n",
        "(x_train, y_train), (x_test, y_test) = fashion_mnist.load_data()\n",
        "print(type(x_train))\n",
        "plt.imshow(x_train[0], cmap='gray')\n",
        "plt.show()"
      ],
      "execution_count": 0,
      "outputs": []
    },
    {
      "cell_type": "markdown",
      "metadata": {
        "colab_type": "text",
        "id": "-uJ6WxvYRcNY"
      },
      "source": [
        "## Modeling\n",
        "\n",
        ">Choosing built-in layers via [tf.keras.layers](https://www.tensorflow.org/api_docs/python/tf/keras/layers/)\n",
        "\n",
        ">Choosing activation functions via [tf.keras.activations](https://www.tensorflow.org/versions/r2.0/api_docs/python/tf/keras/activations)\n",
        "\n",
        ">Initializing the layer parameters via [tf.keras.initializers](https://www.tensorflow.org/versions/r2.0/api_docs/python/tf/keras/initializers)\n",
        "\n",
        ">Applying regularization to the layer parameters (to prevent overfitting) via [tf.keras.regularizers](https://www.tensorflow.org/versions/r2.0/api_docs/python/tf/keras/regularizers)\n",
        "\n",
        ">Optimizers via [tf.keras.optimizers](https://www.tensorflow.org/versions/r2.0/api_docs/python/tf/keras/optimizers)\n",
        "\n",
        ">Loss functions via [tf.keras.losses](https://www.tensorflow.org/versions/r2.0/api_docs/python/tf/keras/losses)\n",
        "\n",
        ">Performance metrics via [tf.keras.metrics](https://www.tensorflow.org/versions/r2.0/api_docs/python/tf/keras/metrics)\n",
        "\n",
        ">Pre-trained models via [tf.keras.applications](https://www.tensorflow.org/api_docs/python/tf/keras/applications)"
      ]
    },
    {
      "cell_type": "code",
      "metadata": {
        "colab_type": "code",
        "id": "h0ixCzxoRs2C",
        "colab": {}
      },
      "source": [
        "def build_lenet5():\n",
        "    model = tf.keras.models.Sequential([\n",
        "        Conv2D(32, kernel_size=(3, 3), activation='relu', input_shape=(28, 28, 1)),\n",
        "        Conv2D(64, kernel_size=(3, 3), activation='relu'),\n",
        "        MaxPooling2D(pool_size=(2, 2)),\n",
        "        Dropout(0.25),\n",
        "        Flatten(),\n",
        "        Dense(128, activation='relu'),\n",
        "        Dropout(0.5),\n",
        "        Dense(10, activation='softmax'),\n",
        "    ])\n",
        "    return model\n",
        "\n",
        "model = build_alexnet()\n",
        "model.summary()"
      ],
      "execution_count": 0,
      "outputs": []
    },
    {
      "cell_type": "code",
      "metadata": {
        "colab_type": "code",
        "id": "G26EztumRueh",
        "colab": {}
      },
      "source": [
        "def build_alexnet():\n",
        "    model = tf.keras.models.Sequential([\n",
        "        Conv2D(96, kernel_size=(11, 11), strides=(4,4), activation='relu', input_shape=(224, 224, 3)),\n",
        "        MaxPooling2D(pool_size=(3, 3), strides=(2, 2)),\n",
        "        BatchNormalization(),\n",
        "\n",
        "        Conv2D(256, kernel_size=(5, 5), activation='relu'),\n",
        "        MaxPooling2D(pool_size=(3, 3), strides=(2, 2)),\n",
        "        BatchNormalization(),\n",
        "\n",
        "        Conv2D(384, kernel_size=(3, 3), padding='same', activation='relu'),\n",
        "        Conv2D(384, kernel_size=(3, 3), padding='same', activation='relu'),\n",
        "        Conv2D(256, kernel_size=(3, 3), padding='same', activation='relu'),\n",
        "        MaxPooling2D(pool_size=(3, 3), strides=(2, 2)),\n",
        "        BatchNormalization(),\n",
        "\n",
        "        Flatten(),\n",
        "        Dense(4096, activation='relu'),\n",
        "        Dropout(0.5),\n",
        "        Dense(4096, activation='relu'),\n",
        "        Dropout(0.5),\n",
        "        Dense(2, activation='softmax')\n",
        "    ])\n",
        "    return model\n",
        "\n",
        "model = build_alexnet()\n",
        "model.summary()"
      ],
      "execution_count": 0,
      "outputs": []
    },
    {
      "cell_type": "markdown",
      "metadata": {
        "colab_type": "text",
        "id": "yd6IJxU5mYp6"
      },
      "source": [
        "**Pre-trained model**"
      ]
    },
    {
      "cell_type": "code",
      "metadata": {
        "colab_type": "code",
        "id": "x-x_7HDERukw",
        "colab": {}
      },
      "source": [
        "mobile_net = tf.keras.applications.MobileNetV2(input_shape=(192, 192, 3), include_top=False)\n",
        "mobile_net.trainable=False\n",
        "\n",
        "model = tf.keras.Sequential([\n",
        "    mobile_net,\n",
        "    tf.keras.layers.GlobalAveragePooling2D(),\n",
        "    tf.keras.layers.Dense(len(label_names), activation = 'softmax')])\n",
        "\n",
        "base_learning_rate = 0.0001\n",
        "model.compile(optimizer=tf.keras.optimizers.RMSprop(lr=base_learning_rate),\n",
        "              loss='sparse_categorical_crossentropy',\n",
        "              metrics=[\"accuracy\"])\n",
        "\n",
        "model.summary()"
      ],
      "execution_count": 0,
      "outputs": []
    },
    {
      "cell_type": "markdown",
      "metadata": {
        "colab_type": "text",
        "id": "gMm00fsWmfX_"
      },
      "source": [
        "**Fine-tuning**"
      ]
    },
    {
      "cell_type": "code",
      "metadata": {
        "colab_type": "code",
        "id": "yDBxAGkXRuou",
        "colab": {}
      },
      "source": [
        "mobile_net.trainable=True\n",
        "\n",
        "print(\"Number of layers in the base model:\", len(mobile_net.layers))\n",
        "\n",
        "fine_tune_at = 140\n",
        "\n",
        "for index, layer in enumerate(mobile_net.layers):\n",
        "    print(index, layer.name)\n",
        "\n",
        "for layer in mobile_net.layers[:fine_tune_at]:\n",
        "    layer.trainable = False"
      ],
      "execution_count": 0,
      "outputs": []
    },
    {
      "cell_type": "code",
      "metadata": {
        "colab_type": "code",
        "id": "FyK-EGt2Ruqs",
        "colab": {}
      },
      "source": [
        "model.compile(optimizer=tf.keras.optimizers.RMSprop(lr=base_learning_rate/10),\n",
        "              loss='sparse_categorical_crossentropy',\n",
        "              metrics=[\"accuracy\"])\n",
        "\n",
        "model.summary()"
      ],
      "execution_count": 0,
      "outputs": []
    },
    {
      "cell_type": "code",
      "metadata": {
        "colab_type": "code",
        "id": "F2cDHdToRus3",
        "colab": {}
      },
      "source": [
        "steps_per_epoch = tf.math.ceil(0.9 * image_count/BATCH_SIZE).numpy()\n",
        "val_steps_per_epoch = tf.math.ceil(0.1 * image_count/BATCH_SIZE).numpy()\n",
        "\n",
        "fine_tune_epochs = 10\n",
        "total_epochs = initial_epochs + fine_tune_epochs\n",
        "history = model.fit(image_data, epochs=total_epochs, \n",
        "            steps_per_epoch=steps_per_epoch,\n",
        "            callbacks = [batch_stats_callback_2],\n",
        "            validation_data=test_set,\n",
        "            validation_steps=val_steps_per_epoch,\n",
        "            initial_epoch=initial_epochs)"
      ],
      "execution_count": 0,
      "outputs": []
    },
    {
      "cell_type": "markdown",
      "metadata": {
        "colab_type": "text",
        "id": "UA7mMMVoRwcL"
      },
      "source": [
        "## Keras Tuner\n",
        "\n",
        "`python3 -m pip install -U keras-tuner`\n",
        "\n",
        "Documentation [Keras Tuner](https://keras-team.github.io/keras-tuner/)"
      ]
    },
    {
      "cell_type": "code",
      "metadata": {
        "colab_type": "code",
        "id": "JgvD6hYHo3Jm",
        "outputId": "38c30e9c-bdd4-46da-8a73-06e262de64d0",
        "colab": {
          "base_uri": "https://localhost:8080/",
          "height": 504
        }
      },
      "source": [
        "!python3 -m pip install -U keras-tuner"
      ],
      "execution_count": 0,
      "outputs": [
        {
          "output_type": "stream",
          "text": [
            "Collecting keras-tuner\n",
            "\u001b[?25l  Downloading https://files.pythonhosted.org/packages/a7/f7/4b41b6832abf4c9bef71a664dc563adb25afc5812831667c6db572b1a261/keras-tuner-1.0.1.tar.gz (54kB)\n",
            "\r\u001b[K     |██████                          | 10kB 28.5MB/s eta 0:00:01\r\u001b[K     |████████████                    | 20kB 32.4MB/s eta 0:00:01\r\u001b[K     |██████████████████              | 30kB 29.5MB/s eta 0:00:01\r\u001b[K     |████████████████████████        | 40kB 12.7MB/s eta 0:00:01\r\u001b[K     |██████████████████████████████  | 51kB 11.1MB/s eta 0:00:01\r\u001b[K     |████████████████████████████████| 61kB 6.5MB/s \n",
            "\u001b[?25hRequirement already satisfied, skipping upgrade: future in /usr/local/lib/python3.6/dist-packages (from keras-tuner) (0.16.0)\n",
            "Requirement already satisfied, skipping upgrade: numpy in /usr/local/lib/python3.6/dist-packages (from keras-tuner) (1.18.3)\n",
            "Requirement already satisfied, skipping upgrade: tabulate in /usr/local/lib/python3.6/dist-packages (from keras-tuner) (0.8.7)\n",
            "Collecting terminaltables\n",
            "  Downloading https://files.pythonhosted.org/packages/9b/c4/4a21174f32f8a7e1104798c445dacdc1d4df86f2f26722767034e4de4bff/terminaltables-3.1.0.tar.gz\n",
            "Collecting colorama\n",
            "  Downloading https://files.pythonhosted.org/packages/c9/dc/45cdef1b4d119eb96316b3117e6d5708a08029992b2fee2c143c7a0a5cc5/colorama-0.4.3-py2.py3-none-any.whl\n",
            "Requirement already satisfied, skipping upgrade: tqdm in /usr/local/lib/python3.6/dist-packages (from keras-tuner) (4.38.0)\n",
            "Requirement already satisfied, skipping upgrade: requests in /usr/local/lib/python3.6/dist-packages (from keras-tuner) (2.23.0)\n",
            "Requirement already satisfied, skipping upgrade: scipy in /usr/local/lib/python3.6/dist-packages (from keras-tuner) (1.4.1)\n",
            "Requirement already satisfied, skipping upgrade: scikit-learn in /usr/local/lib/python3.6/dist-packages (from keras-tuner) (0.22.2.post1)\n",
            "Requirement already satisfied, skipping upgrade: certifi>=2017.4.17 in /usr/local/lib/python3.6/dist-packages (from requests->keras-tuner) (2020.4.5.1)\n",
            "Requirement already satisfied, skipping upgrade: idna<3,>=2.5 in /usr/local/lib/python3.6/dist-packages (from requests->keras-tuner) (2.9)\n",
            "Requirement already satisfied, skipping upgrade: urllib3!=1.25.0,!=1.25.1,<1.26,>=1.21.1 in /usr/local/lib/python3.6/dist-packages (from requests->keras-tuner) (1.24.3)\n",
            "Requirement already satisfied, skipping upgrade: chardet<4,>=3.0.2 in /usr/local/lib/python3.6/dist-packages (from requests->keras-tuner) (3.0.4)\n",
            "Requirement already satisfied, skipping upgrade: joblib>=0.11 in /usr/local/lib/python3.6/dist-packages (from scikit-learn->keras-tuner) (0.14.1)\n",
            "Building wheels for collected packages: keras-tuner, terminaltables\n",
            "  Building wheel for keras-tuner (setup.py) ... \u001b[?25l\u001b[?25hdone\n",
            "  Created wheel for keras-tuner: filename=keras_tuner-1.0.1-cp36-none-any.whl size=73200 sha256=dad872120f4dbcd8df810e77d3db6894479aa27ffb0ce1ee5c0b8f05b563b8cf\n",
            "  Stored in directory: /root/.cache/pip/wheels/b9/cc/62/52716b70dd90f3db12519233c3a93a5360bc672da1a10ded43\n",
            "  Building wheel for terminaltables (setup.py) ... \u001b[?25l\u001b[?25hdone\n",
            "  Created wheel for terminaltables: filename=terminaltables-3.1.0-cp36-none-any.whl size=15356 sha256=9aafafc87679413ebbc54c3c6fbb21441da1c897955a8250079d75180647c765\n",
            "  Stored in directory: /root/.cache/pip/wheels/30/6b/50/6c75775b681fb36cdfac7f19799888ef9d8813aff9e379663e\n",
            "Successfully built keras-tuner terminaltables\n",
            "Installing collected packages: terminaltables, colorama, keras-tuner\n",
            "Successfully installed colorama-0.4.3 keras-tuner-1.0.1 terminaltables-3.1.0\n"
          ],
          "name": "stdout"
        }
      ]
    },
    {
      "cell_type": "code",
      "metadata": {
        "colab_type": "code",
        "id": "UbNIbsuzRuzU",
        "colab": {}
      },
      "source": [
        "import kerastuner as kt\n",
        "import tensorflow as tf\n",
        "\n",
        "def build_model(hp):\n",
        "    \"\"\"Builds a convolutional model.\"\"\"\n",
        "    inputs = tf.keras.Input(shape=(28, 28, 1))\n",
        "    x = inputs\n",
        "    for i in range(hp.Int('conv_layers', 1, 3, default=3)):\n",
        "        x = tf.keras.layers.Conv2D(\n",
        "            filters=hp.Int('filters_' + str(i), 4, 32, step=4, default=8),\n",
        "            kernel_size=hp.Int('kernel_size_' + str(i), 3, 5),\n",
        "            activation='relu',\n",
        "            padding='same')(x)\n",
        "\n",
        "        if hp.Choice('pooling' + str(i), ['max', 'avg']) == 'max':\n",
        "            x = tf.keras.layers.MaxPooling2D()(x)\n",
        "        else:\n",
        "            x = tf.keras.layers.AveragePooling2D()(x)\n",
        "\n",
        "        x = tf.keras.layers.BatchNormalization()(x)\n",
        "        x = tf.keras.layers.ReLU()(x)\n",
        "\n",
        "    if hp.Choice('global_pooling', ['max', 'avg']) == 'max':\n",
        "        x = tf.keras.layers.GlobalMaxPooling2D()(x)\n",
        "    else:\n",
        "        x = tf.keras.layers.GlobalAveragePooling2D()(x)\n",
        "    outputs = tf.keras.layers.Dense(10, activation='softmax')(x)\n",
        "\n",
        "    model = tf.keras.Model(inputs, outputs)\n",
        "\n",
        "    optimizer = hp.Choice('optimizer', ['adam', 'sgd'])\n",
        "    model.compile(optimizer, loss='sparse_categorical_crossentropy', metrics=['accuracy'])\n",
        "    return model"
      ],
      "execution_count": 0,
      "outputs": []
    },
    {
      "cell_type": "code",
      "metadata": {
        "colab_type": "code",
        "id": "5g8MeWf5THv2",
        "outputId": "611dfbd4-6f62-4891-c521-a78922bffb53",
        "colab": {
          "base_uri": "https://localhost:8080/",
          "height": 200,
          "referenced_widgets": [
            "98ca440622f140d194de64a3fddf519d",
            "f64f108576a94c3bb537d253d5552655",
            "cfaedc7021eb461984037510f4a87a56",
            "31fae62eb3d04c2a9cdac613fcdc5195",
            "b141fe0fb24a454089ce95c2834fbfa7",
            "ebecd0cc25174a10a1fdec1684c5078b",
            "e9f3ceca166a417693661a09e51ee01d",
            "f9461b7b4c354a8c9beb105049a3d07a"
          ]
        }
      },
      "source": [
        "import tensorflow_datasets as tfds\n",
        "\n",
        "def preprocess(ds):\n",
        "    \"\"\"Puts the mnist dataset in the format Keras expects, (features, labels).\"\"\"\n",
        "    x = tf.cast(ds['image'], tf.float32) / 255.0\n",
        "    return x, ds['label']\n",
        "\n",
        "mnist_data = tfds.load('mnist')\n",
        "mnist_train, mnist_test = mnist_data['train'], mnist_data['test']\n",
        "mnist_train = mnist_train.map(preprocess).shuffle(1000).batch(100).repeat()\n",
        "mnist_test = mnist_test.map(preprocess).batch(100)"
      ],
      "execution_count": 0,
      "outputs": [
        {
          "output_type": "stream",
          "text": [
            "Downloading and preparing dataset mnist/3.0.0 (download: 11.06 MiB, generated: Unknown size, total: 11.06 MiB) to /root/tensorflow_datasets/mnist/3.0.0...\n"
          ],
          "name": "stdout"
        },
        {
          "output_type": "stream",
          "text": [
            "WARNING:absl:Dataset mnist is hosted on GCS. It will automatically be downloaded to your\n",
            "local data directory. If you'd instead prefer to read directly from our public\n",
            "GCS bucket (recommended if you're running on GCP), you can instead set\n",
            "data_dir=gs://tfds-data/datasets.\n",
            "\n"
          ],
          "name": "stderr"
        },
        {
          "output_type": "display_data",
          "data": {
            "application/vnd.jupyter.widget-view+json": {
              "model_id": "98ca440622f140d194de64a3fddf519d",
              "version_minor": 0,
              "version_major": 2
            },
            "text/plain": [
              "HBox(children=(IntProgress(value=0, description='Dl Completed...', max=4, style=ProgressStyle(description_widt…"
            ]
          },
          "metadata": {
            "tags": []
          }
        },
        {
          "output_type": "stream",
          "text": [
            "\n",
            "\n",
            "Dataset mnist downloaded and prepared to /root/tensorflow_datasets/mnist/3.0.0. Subsequent calls will reuse this data.\n"
          ],
          "name": "stdout"
        }
      ]
    },
    {
      "cell_type": "code",
      "metadata": {
        "colab_type": "code",
        "id": "ZR8sA4TFTHy_",
        "outputId": "7f01e260-4157-4081-bfda-e84c14179296",
        "colab": {
          "base_uri": "https://localhost:8080/",
          "height": 1000
        }
      },
      "source": [
        "# Runs the hyperparameter search.\n",
        "\n",
        "tuner = kt.RandomSearch(\n",
        "    build_model,\n",
        "    objective='val_accuracy',\n",
        "    max_trials=5,\n",
        "    executions_per_trial=3,\n",
        "    directory='results_dir',\n",
        "    project_name='mnist')\n",
        "\n",
        "tuner.search(mnist_train,\n",
        "             steps_per_epoch=600,\n",
        "             validation_data=mnist_test,\n",
        "             validation_steps=100,\n",
        "             epochs=20,\n",
        "             callbacks=[tf.keras.callbacks.EarlyStopping('val_accuracy')])"
      ],
      "execution_count": 0,
      "outputs": [
        {
          "output_type": "stream",
          "text": [
            "Epoch 1/20\n",
            "600/600 [==============================] - 13s 22ms/step - loss: 1.2972 - accuracy: 0.5842 - val_loss: 0.9042 - val_accuracy: 0.7174\n",
            "Epoch 2/20\n",
            "600/600 [==============================] - 13s 21ms/step - loss: 0.5745 - accuracy: 0.8223 - val_loss: 0.4956 - val_accuracy: 0.8437\n",
            "Epoch 3/20\n",
            "600/600 [==============================] - 10s 17ms/step - loss: 0.4111 - accuracy: 0.8790 - val_loss: 0.4063 - val_accuracy: 0.8767\n",
            "Epoch 4/20\n",
            "600/600 [==============================] - 10s 17ms/step - loss: 0.3395 - accuracy: 0.9007 - val_loss: 0.4459 - val_accuracy: 0.8628\n",
            "Epoch 1/20\n",
            "600/600 [==============================] - 13s 22ms/step - loss: 1.3834 - accuracy: 0.5435 - val_loss: 0.9306 - val_accuracy: 0.6987\n",
            "Epoch 2/20\n",
            "600/600 [==============================] - 11s 19ms/step - loss: 0.5337 - accuracy: 0.8372 - val_loss: 0.4227 - val_accuracy: 0.8695\n",
            "Epoch 3/20\n",
            "600/600 [==============================] - 10s 17ms/step - loss: 0.3877 - accuracy: 0.8829 - val_loss: 0.3933 - val_accuracy: 0.8746\n",
            "Epoch 4/20\n",
            "600/600 [==============================] - 12s 19ms/step - loss: 0.3378 - accuracy: 0.8978 - val_loss: 0.3205 - val_accuracy: 0.8986\n",
            "Epoch 5/20\n",
            "600/600 [==============================] - 11s 18ms/step - loss: 0.3080 - accuracy: 0.9068 - val_loss: 0.3086 - val_accuracy: 0.9043\n",
            "Epoch 6/20\n",
            "600/600 [==============================] - 10s 17ms/step - loss: 0.2851 - accuracy: 0.9138 - val_loss: 0.2684 - val_accuracy: 0.9176\n",
            "Epoch 7/20\n",
            "600/600 [==============================] - 10s 17ms/step - loss: 0.2659 - accuracy: 0.9193 - val_loss: 0.2373 - val_accuracy: 0.9260\n",
            "Epoch 8/20\n",
            "600/600 [==============================] - 12s 20ms/step - loss: 0.2521 - accuracy: 0.9230 - val_loss: 0.2338 - val_accuracy: 0.9289\n",
            "Epoch 9/20\n",
            "600/600 [==============================] - 10s 17ms/step - loss: 0.2386 - accuracy: 0.9280 - val_loss: 0.2258 - val_accuracy: 0.9307\n",
            "Epoch 10/20\n",
            "600/600 [==============================] - 10s 17ms/step - loss: 0.2280 - accuracy: 0.9312 - val_loss: 0.2444 - val_accuracy: 0.9271\n",
            "Epoch 1/20\n",
            "600/600 [==============================] - 13s 22ms/step - loss: 1.2721 - accuracy: 0.5854 - val_loss: 0.8106 - val_accuracy: 0.7333\n",
            "Epoch 2/20\n",
            "600/600 [==============================] - 11s 18ms/step - loss: 0.5704 - accuracy: 0.8248 - val_loss: 0.4566 - val_accuracy: 0.8582\n",
            "Epoch 3/20\n",
            "600/600 [==============================] - 10s 17ms/step - loss: 0.4198 - accuracy: 0.8732 - val_loss: 0.3614 - val_accuracy: 0.8901\n",
            "Epoch 4/20\n",
            "600/600 [==============================] - 11s 19ms/step - loss: 0.3477 - accuracy: 0.8947 - val_loss: 0.3139 - val_accuracy: 0.9042\n",
            "Epoch 5/20\n",
            "600/600 [==============================] - 10s 17ms/step - loss: 0.3102 - accuracy: 0.9068 - val_loss: 0.2953 - val_accuracy: 0.9123\n",
            "Epoch 6/20\n",
            "600/600 [==============================] - 10s 17ms/step - loss: 0.2854 - accuracy: 0.9137 - val_loss: 0.2600 - val_accuracy: 0.9193\n",
            "Epoch 7/20\n",
            "600/600 [==============================] - 10s 17ms/step - loss: 0.2677 - accuracy: 0.9184 - val_loss: 0.2561 - val_accuracy: 0.9217\n",
            "Epoch 8/20\n",
            "600/600 [==============================] - 12s 20ms/step - loss: 0.2526 - accuracy: 0.9237 - val_loss: 0.2445 - val_accuracy: 0.9274\n",
            "Epoch 9/20\n",
            "600/600 [==============================] - 10s 17ms/step - loss: 0.2429 - accuracy: 0.9263 - val_loss: 0.2365 - val_accuracy: 0.9299\n",
            "Epoch 10/20\n",
            "600/600 [==============================] - 10s 17ms/step - loss: 0.2334 - accuracy: 0.9302 - val_loss: 0.2333 - val_accuracy: 0.9300\n",
            "Epoch 11/20\n",
            "600/600 [==============================] - 10s 17ms/step - loss: 0.2242 - accuracy: 0.9324 - val_loss: 0.2129 - val_accuracy: 0.9368\n",
            "Epoch 12/20\n",
            "600/600 [==============================] - 10s 17ms/step - loss: 0.2181 - accuracy: 0.9336 - val_loss: 0.2082 - val_accuracy: 0.9390\n",
            "Epoch 13/20\n",
            "600/600 [==============================] - 10s 17ms/step - loss: 0.2132 - accuracy: 0.9350 - val_loss: 0.2213 - val_accuracy: 0.9340\n"
          ],
          "name": "stdout"
        },
        {
          "output_type": "display_data",
          "data": {
            "text/html": [
              "<span style=\"color:#4527A0\"><h1 style=\"font-size:18px\">Trial complete</h1></span>"
            ],
            "text/plain": [
              "<IPython.core.display.HTML object>"
            ]
          },
          "metadata": {
            "tags": []
          }
        },
        {
          "output_type": "display_data",
          "data": {
            "text/html": [
              "<span style=\"color:#4527A0\"><h1 style=\"font-size:18px\">Trial summary</h1></span>"
            ],
            "text/plain": [
              "<IPython.core.display.HTML object>"
            ]
          },
          "metadata": {
            "tags": []
          }
        },
        {
          "output_type": "display_data",
          "data": {
            "text/html": [
              "<span style=\"color:cyan\"> |-Trial ID: 912089b23b64f8bc26da3ed140fc240c</span>"
            ],
            "text/plain": [
              "<IPython.core.display.HTML object>"
            ]
          },
          "metadata": {
            "tags": []
          }
        },
        {
          "output_type": "display_data",
          "data": {
            "text/html": [
              "<span style=\"color:cyan\"> |-Score: 0.9154666662216187</span>"
            ],
            "text/plain": [
              "<IPython.core.display.HTML object>"
            ]
          },
          "metadata": {
            "tags": []
          }
        },
        {
          "output_type": "display_data",
          "data": {
            "text/html": [
              "<span style=\"color:cyan\"> |-Best step: 0</span>"
            ],
            "text/plain": [
              "<IPython.core.display.HTML object>"
            ]
          },
          "metadata": {
            "tags": []
          }
        },
        {
          "output_type": "display_data",
          "data": {
            "text/html": [
              "<span style=\"color:#7E57C2\"><h2 style=\"font-size:16px\">Hyperparameters:</h2></span>"
            ],
            "text/plain": [
              "<IPython.core.display.HTML object>"
            ]
          },
          "metadata": {
            "tags": []
          }
        },
        {
          "output_type": "display_data",
          "data": {
            "text/html": [
              "<span style=\"color:cyan\"> |-conv_layers: 2</span>"
            ],
            "text/plain": [
              "<IPython.core.display.HTML object>"
            ]
          },
          "metadata": {
            "tags": []
          }
        },
        {
          "output_type": "display_data",
          "data": {
            "text/html": [
              "<span style=\"color:blue\"> |-filters_0: 12</span>"
            ],
            "text/plain": [
              "<IPython.core.display.HTML object>"
            ]
          },
          "metadata": {
            "tags": []
          }
        },
        {
          "output_type": "display_data",
          "data": {
            "text/html": [
              "<span style=\"color:cyan\"> |-filters_1: 12</span>"
            ],
            "text/plain": [
              "<IPython.core.display.HTML object>"
            ]
          },
          "metadata": {
            "tags": []
          }
        },
        {
          "output_type": "display_data",
          "data": {
            "text/html": [
              "<span style=\"color:blue\"> |-filters_2: 32</span>"
            ],
            "text/plain": [
              "<IPython.core.display.HTML object>"
            ]
          },
          "metadata": {
            "tags": []
          }
        },
        {
          "output_type": "display_data",
          "data": {
            "text/html": [
              "<span style=\"color:cyan\"> |-global_pooling: max</span>"
            ],
            "text/plain": [
              "<IPython.core.display.HTML object>"
            ]
          },
          "metadata": {
            "tags": []
          }
        },
        {
          "output_type": "display_data",
          "data": {
            "text/html": [
              "<span style=\"color:blue\"> |-kernel_size_0: 4</span>"
            ],
            "text/plain": [
              "<IPython.core.display.HTML object>"
            ]
          },
          "metadata": {
            "tags": []
          }
        },
        {
          "output_type": "display_data",
          "data": {
            "text/html": [
              "<span style=\"color:cyan\"> |-kernel_size_1: 3</span>"
            ],
            "text/plain": [
              "<IPython.core.display.HTML object>"
            ]
          },
          "metadata": {
            "tags": []
          }
        },
        {
          "output_type": "display_data",
          "data": {
            "text/html": [
              "<span style=\"color:blue\"> |-kernel_size_2: 3</span>"
            ],
            "text/plain": [
              "<IPython.core.display.HTML object>"
            ]
          },
          "metadata": {
            "tags": []
          }
        },
        {
          "output_type": "display_data",
          "data": {
            "text/html": [
              "<span style=\"color:cyan\"> |-optimizer: sgd</span>"
            ],
            "text/plain": [
              "<IPython.core.display.HTML object>"
            ]
          },
          "metadata": {
            "tags": []
          }
        },
        {
          "output_type": "display_data",
          "data": {
            "text/html": [
              "<span style=\"color:blue\"> |-pooling0: max</span>"
            ],
            "text/plain": [
              "<IPython.core.display.HTML object>"
            ]
          },
          "metadata": {
            "tags": []
          }
        },
        {
          "output_type": "display_data",
          "data": {
            "text/html": [
              "<span style=\"color:cyan\"> |-pooling1: max</span>"
            ],
            "text/plain": [
              "<IPython.core.display.HTML object>"
            ]
          },
          "metadata": {
            "tags": []
          }
        },
        {
          "output_type": "display_data",
          "data": {
            "text/html": [
              "<span style=\"color:blue\"> |-pooling2: max</span>"
            ],
            "text/plain": [
              "<IPython.core.display.HTML object>"
            ]
          },
          "metadata": {
            "tags": []
          }
        },
        {
          "output_type": "stream",
          "text": [
            "Epoch 1/20\n",
            "600/600 [==============================] - 14s 23ms/step - loss: 0.6650 - accuracy: 0.8317 - val_loss: 0.5789 - val_accuracy: 0.9115\n",
            "Epoch 2/20\n",
            "600/600 [==============================] - 11s 19ms/step - loss: 0.2103 - accuracy: 0.9509 - val_loss: 0.1762 - val_accuracy: 0.9595\n",
            "Epoch 3/20\n",
            "600/600 [==============================] - 11s 18ms/step - loss: 0.1447 - accuracy: 0.9629 - val_loss: 0.1380 - val_accuracy: 0.9616\n",
            "Epoch 4/20\n",
            "600/600 [==============================] - 12s 20ms/step - loss: 0.1152 - accuracy: 0.9700 - val_loss: 0.1105 - val_accuracy: 0.9707\n",
            "Epoch 5/20\n",
            "600/600 [==============================] - 11s 18ms/step - loss: 0.0977 - accuracy: 0.9742 - val_loss: 0.1446 - val_accuracy: 0.9600\n",
            "Epoch 1/20\n",
            "600/600 [==============================] - 14s 24ms/step - loss: 0.6598 - accuracy: 0.8379 - val_loss: 0.4266 - val_accuracy: 0.9192\n",
            "Epoch 2/20\n",
            "600/600 [==============================] - 12s 20ms/step - loss: 0.1803 - accuracy: 0.9571 - val_loss: 0.1736 - val_accuracy: 0.9535\n",
            "Epoch 3/20\n",
            "600/600 [==============================] - 11s 18ms/step - loss: 0.1255 - accuracy: 0.9685 - val_loss: 0.1123 - val_accuracy: 0.9722\n",
            "Epoch 4/20\n",
            "600/600 [==============================] - 12s 21ms/step - loss: 0.1009 - accuracy: 0.9736 - val_loss: 0.1078 - val_accuracy: 0.9706\n",
            "Epoch 1/20\n",
            "600/600 [==============================] - 14s 24ms/step - loss: 0.6787 - accuracy: 0.8309 - val_loss: 0.5863 - val_accuracy: 0.8799\n",
            "Epoch 2/20\n",
            "600/600 [==============================] - 11s 19ms/step - loss: 0.2118 - accuracy: 0.9498 - val_loss: 0.1755 - val_accuracy: 0.9558\n",
            "Epoch 3/20\n",
            "600/600 [==============================] - 10s 17ms/step - loss: 0.1484 - accuracy: 0.9630 - val_loss: 0.1719 - val_accuracy: 0.9558\n"
          ],
          "name": "stdout"
        },
        {
          "output_type": "display_data",
          "data": {
            "text/html": [
              "<span style=\"color:#4527A0\"><h1 style=\"font-size:18px\">Trial complete</h1></span>"
            ],
            "text/plain": [
              "<IPython.core.display.HTML object>"
            ]
          },
          "metadata": {
            "tags": []
          }
        },
        {
          "output_type": "display_data",
          "data": {
            "text/html": [
              "<span style=\"color:#4527A0\"><h1 style=\"font-size:18px\">Trial summary</h1></span>"
            ],
            "text/plain": [
              "<IPython.core.display.HTML object>"
            ]
          },
          "metadata": {
            "tags": []
          }
        },
        {
          "output_type": "display_data",
          "data": {
            "text/html": [
              "<span style=\"color:cyan\"> |-Trial ID: eaac4957cf2a0a041724107c7d03f5b0</span>"
            ],
            "text/plain": [
              "<IPython.core.display.HTML object>"
            ]
          },
          "metadata": {
            "tags": []
          }
        },
        {
          "output_type": "display_data",
          "data": {
            "text/html": [
              "<span style=\"color:cyan\"> |-Score: 0.9662333329518636</span>"
            ],
            "text/plain": [
              "<IPython.core.display.HTML object>"
            ]
          },
          "metadata": {
            "tags": []
          }
        },
        {
          "output_type": "display_data",
          "data": {
            "text/html": [
              "<span style=\"color:cyan\"> |-Best step: 0</span>"
            ],
            "text/plain": [
              "<IPython.core.display.HTML object>"
            ]
          },
          "metadata": {
            "tags": []
          }
        },
        {
          "output_type": "display_data",
          "data": {
            "text/html": [
              "<span style=\"color:#7E57C2\"><h2 style=\"font-size:16px\">Hyperparameters:</h2></span>"
            ],
            "text/plain": [
              "<IPython.core.display.HTML object>"
            ]
          },
          "metadata": {
            "tags": []
          }
        },
        {
          "output_type": "display_data",
          "data": {
            "text/html": [
              "<span style=\"color:cyan\"> |-conv_layers: 3</span>"
            ],
            "text/plain": [
              "<IPython.core.display.HTML object>"
            ]
          },
          "metadata": {
            "tags": []
          }
        },
        {
          "output_type": "display_data",
          "data": {
            "text/html": [
              "<span style=\"color:blue\"> |-filters_0: 24</span>"
            ],
            "text/plain": [
              "<IPython.core.display.HTML object>"
            ]
          },
          "metadata": {
            "tags": []
          }
        },
        {
          "output_type": "display_data",
          "data": {
            "text/html": [
              "<span style=\"color:cyan\"> |-filters_1: 16</span>"
            ],
            "text/plain": [
              "<IPython.core.display.HTML object>"
            ]
          },
          "metadata": {
            "tags": []
          }
        },
        {
          "output_type": "display_data",
          "data": {
            "text/html": [
              "<span style=\"color:blue\"> |-filters_2: 8</span>"
            ],
            "text/plain": [
              "<IPython.core.display.HTML object>"
            ]
          },
          "metadata": {
            "tags": []
          }
        },
        {
          "output_type": "display_data",
          "data": {
            "text/html": [
              "<span style=\"color:cyan\"> |-global_pooling: max</span>"
            ],
            "text/plain": [
              "<IPython.core.display.HTML object>"
            ]
          },
          "metadata": {
            "tags": []
          }
        },
        {
          "output_type": "display_data",
          "data": {
            "text/html": [
              "<span style=\"color:blue\"> |-kernel_size_0: 4</span>"
            ],
            "text/plain": [
              "<IPython.core.display.HTML object>"
            ]
          },
          "metadata": {
            "tags": []
          }
        },
        {
          "output_type": "display_data",
          "data": {
            "text/html": [
              "<span style=\"color:cyan\"> |-kernel_size_1: 4</span>"
            ],
            "text/plain": [
              "<IPython.core.display.HTML object>"
            ]
          },
          "metadata": {
            "tags": []
          }
        },
        {
          "output_type": "display_data",
          "data": {
            "text/html": [
              "<span style=\"color:blue\"> |-kernel_size_2: 4</span>"
            ],
            "text/plain": [
              "<IPython.core.display.HTML object>"
            ]
          },
          "metadata": {
            "tags": []
          }
        },
        {
          "output_type": "display_data",
          "data": {
            "text/html": [
              "<span style=\"color:cyan\"> |-optimizer: sgd</span>"
            ],
            "text/plain": [
              "<IPython.core.display.HTML object>"
            ]
          },
          "metadata": {
            "tags": []
          }
        },
        {
          "output_type": "display_data",
          "data": {
            "text/html": [
              "<span style=\"color:blue\"> |-pooling0: avg</span>"
            ],
            "text/plain": [
              "<IPython.core.display.HTML object>"
            ]
          },
          "metadata": {
            "tags": []
          }
        },
        {
          "output_type": "display_data",
          "data": {
            "text/html": [
              "<span style=\"color:cyan\"> |-pooling1: avg</span>"
            ],
            "text/plain": [
              "<IPython.core.display.HTML object>"
            ]
          },
          "metadata": {
            "tags": []
          }
        },
        {
          "output_type": "display_data",
          "data": {
            "text/html": [
              "<span style=\"color:blue\"> |-pooling2: avg</span>"
            ],
            "text/plain": [
              "<IPython.core.display.HTML object>"
            ]
          },
          "metadata": {
            "tags": []
          }
        },
        {
          "output_type": "stream",
          "text": [
            "Epoch 1/20\n",
            "600/600 [==============================] - 13s 22ms/step - loss: 0.8909 - accuracy: 0.7402 - val_loss: 0.6939 - val_accuracy: 0.7965\n",
            "Epoch 2/20\n",
            "600/600 [==============================] - 11s 18ms/step - loss: 0.3413 - accuracy: 0.9042 - val_loss: 0.3098 - val_accuracy: 0.9098\n",
            "Epoch 3/20\n",
            "600/600 [==============================] - 10s 17ms/step - loss: 0.2527 - accuracy: 0.9283 - val_loss: 0.2490 - val_accuracy: 0.9276\n",
            "Epoch 4/20\n",
            "600/600 [==============================] - 11s 18ms/step - loss: 0.2100 - accuracy: 0.9395 - val_loss: 0.1923 - val_accuracy: 0.9394\n",
            "Epoch 5/20\n",
            "600/600 [==============================] - 10s 17ms/step - loss: 0.1828 - accuracy: 0.9466 - val_loss: 0.1672 - val_accuracy: 0.9492\n",
            "Epoch 6/20\n",
            "600/600 [==============================] - 10s 17ms/step - loss: 0.1635 - accuracy: 0.9515 - val_loss: 0.1712 - val_accuracy: 0.9464\n",
            "Epoch 1/20\n",
            "600/600 [==============================] - 14s 23ms/step - loss: 0.6903 - accuracy: 0.8067 - val_loss: 0.5348 - val_accuracy: 0.8391\n",
            "Epoch 2/20\n",
            "600/600 [==============================] - 12s 19ms/step - loss: 0.2834 - accuracy: 0.9211 - val_loss: 0.2491 - val_accuracy: 0.9253\n",
            "Epoch 3/20\n",
            "600/600 [==============================] - 10s 17ms/step - loss: 0.2285 - accuracy: 0.9341 - val_loss: 0.1932 - val_accuracy: 0.9446\n",
            "Epoch 4/20\n",
            "600/600 [==============================] - 11s 19ms/step - loss: 0.2014 - accuracy: 0.9414 - val_loss: 0.1951 - val_accuracy: 0.9421\n",
            "Epoch 1/20\n",
            "600/600 [==============================] - 13s 22ms/step - loss: 0.8001 - accuracy: 0.7647 - val_loss: 0.5361 - val_accuracy: 0.8425\n",
            "Epoch 2/20\n",
            "600/600 [==============================] - 11s 18ms/step - loss: 0.3181 - accuracy: 0.9083 - val_loss: 0.2643 - val_accuracy: 0.9224\n",
            "Epoch 3/20\n",
            "600/600 [==============================] - 11s 18ms/step - loss: 0.2423 - accuracy: 0.9294 - val_loss: 0.3061 - val_accuracy: 0.9045\n"
          ],
          "name": "stdout"
        },
        {
          "output_type": "display_data",
          "data": {
            "text/html": [
              "<span style=\"color:#4527A0\"><h1 style=\"font-size:18px\">Trial complete</h1></span>"
            ],
            "text/plain": [
              "<IPython.core.display.HTML object>"
            ]
          },
          "metadata": {
            "tags": []
          }
        },
        {
          "output_type": "display_data",
          "data": {
            "text/html": [
              "<span style=\"color:#4527A0\"><h1 style=\"font-size:18px\">Trial summary</h1></span>"
            ],
            "text/plain": [
              "<IPython.core.display.HTML object>"
            ]
          },
          "metadata": {
            "tags": []
          }
        },
        {
          "output_type": "display_data",
          "data": {
            "text/html": [
              "<span style=\"color:cyan\"> |-Trial ID: 6817990f846a298a25b895419a466040</span>"
            ],
            "text/plain": [
              "<IPython.core.display.HTML object>"
            ]
          },
          "metadata": {
            "tags": []
          }
        },
        {
          "output_type": "display_data",
          "data": {
            "text/html": [
              "<span style=\"color:cyan\"> |-Score: 0.9387333194414774</span>"
            ],
            "text/plain": [
              "<IPython.core.display.HTML object>"
            ]
          },
          "metadata": {
            "tags": []
          }
        },
        {
          "output_type": "display_data",
          "data": {
            "text/html": [
              "<span style=\"color:cyan\"> |-Best step: 0</span>"
            ],
            "text/plain": [
              "<IPython.core.display.HTML object>"
            ]
          },
          "metadata": {
            "tags": []
          }
        },
        {
          "output_type": "display_data",
          "data": {
            "text/html": [
              "<span style=\"color:#7E57C2\"><h2 style=\"font-size:16px\">Hyperparameters:</h2></span>"
            ],
            "text/plain": [
              "<IPython.core.display.HTML object>"
            ]
          },
          "metadata": {
            "tags": []
          }
        },
        {
          "output_type": "display_data",
          "data": {
            "text/html": [
              "<span style=\"color:cyan\"> |-conv_layers: 2</span>"
            ],
            "text/plain": [
              "<IPython.core.display.HTML object>"
            ]
          },
          "metadata": {
            "tags": []
          }
        },
        {
          "output_type": "display_data",
          "data": {
            "text/html": [
              "<span style=\"color:blue\"> |-filters_0: 4</span>"
            ],
            "text/plain": [
              "<IPython.core.display.HTML object>"
            ]
          },
          "metadata": {
            "tags": []
          }
        },
        {
          "output_type": "display_data",
          "data": {
            "text/html": [
              "<span style=\"color:cyan\"> |-filters_1: 20</span>"
            ],
            "text/plain": [
              "<IPython.core.display.HTML object>"
            ]
          },
          "metadata": {
            "tags": []
          }
        },
        {
          "output_type": "display_data",
          "data": {
            "text/html": [
              "<span style=\"color:blue\"> |-filters_2: 24</span>"
            ],
            "text/plain": [
              "<IPython.core.display.HTML object>"
            ]
          },
          "metadata": {
            "tags": []
          }
        },
        {
          "output_type": "display_data",
          "data": {
            "text/html": [
              "<span style=\"color:cyan\"> |-global_pooling: max</span>"
            ],
            "text/plain": [
              "<IPython.core.display.HTML object>"
            ]
          },
          "metadata": {
            "tags": []
          }
        },
        {
          "output_type": "display_data",
          "data": {
            "text/html": [
              "<span style=\"color:blue\"> |-kernel_size_0: 5</span>"
            ],
            "text/plain": [
              "<IPython.core.display.HTML object>"
            ]
          },
          "metadata": {
            "tags": []
          }
        },
        {
          "output_type": "display_data",
          "data": {
            "text/html": [
              "<span style=\"color:cyan\"> |-kernel_size_1: 4</span>"
            ],
            "text/plain": [
              "<IPython.core.display.HTML object>"
            ]
          },
          "metadata": {
            "tags": []
          }
        },
        {
          "output_type": "display_data",
          "data": {
            "text/html": [
              "<span style=\"color:blue\"> |-kernel_size_2: 3</span>"
            ],
            "text/plain": [
              "<IPython.core.display.HTML object>"
            ]
          },
          "metadata": {
            "tags": []
          }
        },
        {
          "output_type": "display_data",
          "data": {
            "text/html": [
              "<span style=\"color:cyan\"> |-optimizer: sgd</span>"
            ],
            "text/plain": [
              "<IPython.core.display.HTML object>"
            ]
          },
          "metadata": {
            "tags": []
          }
        },
        {
          "output_type": "display_data",
          "data": {
            "text/html": [
              "<span style=\"color:blue\"> |-pooling0: avg</span>"
            ],
            "text/plain": [
              "<IPython.core.display.HTML object>"
            ]
          },
          "metadata": {
            "tags": []
          }
        },
        {
          "output_type": "display_data",
          "data": {
            "text/html": [
              "<span style=\"color:cyan\"> |-pooling1: avg</span>"
            ],
            "text/plain": [
              "<IPython.core.display.HTML object>"
            ]
          },
          "metadata": {
            "tags": []
          }
        },
        {
          "output_type": "display_data",
          "data": {
            "text/html": [
              "<span style=\"color:blue\"> |-pooling2: avg</span>"
            ],
            "text/plain": [
              "<IPython.core.display.HTML object>"
            ]
          },
          "metadata": {
            "tags": []
          }
        },
        {
          "output_type": "stream",
          "text": [
            "Epoch 1/20\n",
            "600/600 [==============================] - 14s 23ms/step - loss: 1.1855 - accuracy: 0.7842 - val_loss: 0.9556 - val_accuracy: 0.9350\n",
            "Epoch 2/20\n",
            "600/600 [==============================] - 12s 20ms/step - loss: 0.4387 - accuracy: 0.9530 - val_loss: 0.2811 - val_accuracy: 0.9624\n",
            "Epoch 3/20\n",
            "600/600 [==============================] - 11s 18ms/step - loss: 0.2387 - accuracy: 0.9664 - val_loss: 0.1772 - val_accuracy: 0.9727\n",
            "Epoch 4/20\n",
            "600/600 [==============================] - 12s 20ms/step - loss: 0.1671 - accuracy: 0.9721 - val_loss: 0.1325 - val_accuracy: 0.9753\n",
            "Epoch 5/20\n",
            "600/600 [==============================] - 11s 18ms/step - loss: 0.1307 - accuracy: 0.9762 - val_loss: 0.1139 - val_accuracy: 0.9794\n",
            "Epoch 6/20\n",
            "600/600 [==============================] - 11s 18ms/step - loss: 0.1094 - accuracy: 0.9792 - val_loss: 0.0971 - val_accuracy: 0.9822\n",
            "Epoch 7/20\n",
            "600/600 [==============================] - 11s 18ms/step - loss: 0.0947 - accuracy: 0.9813 - val_loss: 0.0815 - val_accuracy: 0.9830\n",
            "Epoch 8/20\n",
            "600/600 [==============================] - 11s 18ms/step - loss: 0.0832 - accuracy: 0.9833 - val_loss: 0.0814 - val_accuracy: 0.9827\n",
            "Epoch 1/20\n",
            "600/600 [==============================] - 14s 23ms/step - loss: 1.2304 - accuracy: 0.7946 - val_loss: 0.9598 - val_accuracy: 0.9229\n",
            "Epoch 2/20\n",
            "600/600 [==============================] - 12s 19ms/step - loss: 0.4374 - accuracy: 0.9527 - val_loss: 0.2803 - val_accuracy: 0.9611\n",
            "Epoch 3/20\n",
            "600/600 [==============================] - 10s 17ms/step - loss: 0.2377 - accuracy: 0.9666 - val_loss: 0.1767 - val_accuracy: 0.9700\n",
            "Epoch 4/20\n",
            "600/600 [==============================] - 12s 20ms/step - loss: 0.1664 - accuracy: 0.9725 - val_loss: 0.1385 - val_accuracy: 0.9750\n",
            "Epoch 5/20\n",
            "600/600 [==============================] - 10s 17ms/step - loss: 0.1307 - accuracy: 0.9761 - val_loss: 0.1199 - val_accuracy: 0.9763\n",
            "Epoch 6/20\n",
            "600/600 [==============================] - 11s 18ms/step - loss: 0.1090 - accuracy: 0.9789 - val_loss: 0.0954 - val_accuracy: 0.9822\n",
            "Epoch 7/20\n",
            "600/600 [==============================] - 11s 18ms/step - loss: 0.0939 - accuracy: 0.9815 - val_loss: 0.0923 - val_accuracy: 0.9805\n",
            "Epoch 1/20\n",
            "600/600 [==============================] - 14s 23ms/step - loss: 1.2627 - accuracy: 0.7611 - val_loss: 1.0462 - val_accuracy: 0.9034\n",
            "Epoch 2/20\n",
            "600/600 [==============================] - 11s 19ms/step - loss: 0.4869 - accuracy: 0.9436 - val_loss: 0.3075 - val_accuracy: 0.9617\n",
            "Epoch 3/20\n",
            "600/600 [==============================] - 10s 17ms/step - loss: 0.2566 - accuracy: 0.9627 - val_loss: 0.1944 - val_accuracy: 0.9711\n",
            "Epoch 4/20\n",
            "600/600 [==============================] - 12s 20ms/step - loss: 0.1746 - accuracy: 0.9711 - val_loss: 0.1534 - val_accuracy: 0.9737\n",
            "Epoch 5/20\n",
            "600/600 [==============================] - 11s 18ms/step - loss: 0.1348 - accuracy: 0.9755 - val_loss: 0.1258 - val_accuracy: 0.9754\n",
            "Epoch 6/20\n",
            "600/600 [==============================] - 11s 18ms/step - loss: 0.1116 - accuracy: 0.9788 - val_loss: 0.1099 - val_accuracy: 0.9779\n",
            "Epoch 7/20\n",
            "600/600 [==============================] - 10s 17ms/step - loss: 0.0952 - accuracy: 0.9812 - val_loss: 0.0948 - val_accuracy: 0.9789\n",
            "Epoch 8/20\n",
            "600/600 [==============================] - 13s 22ms/step - loss: 0.0838 - accuracy: 0.9823 - val_loss: 0.0831 - val_accuracy: 0.9813\n",
            "Epoch 9/20\n",
            "600/600 [==============================] - 10s 17ms/step - loss: 0.0758 - accuracy: 0.9835 - val_loss: 0.0763 - val_accuracy: 0.9824\n",
            "Epoch 10/20\n",
            "600/600 [==============================] - 11s 18ms/step - loss: 0.0681 - accuracy: 0.9856 - val_loss: 0.0766 - val_accuracy: 0.9825\n",
            "Epoch 11/20\n",
            "600/600 [==============================] - 11s 18ms/step - loss: 0.0632 - accuracy: 0.9860 - val_loss: 0.0835 - val_accuracy: 0.9798\n"
          ],
          "name": "stdout"
        },
        {
          "output_type": "display_data",
          "data": {
            "text/html": [
              "<span style=\"color:#4527A0\"><h1 style=\"font-size:18px\">Trial complete</h1></span>"
            ],
            "text/plain": [
              "<IPython.core.display.HTML object>"
            ]
          },
          "metadata": {
            "tags": []
          }
        },
        {
          "output_type": "display_data",
          "data": {
            "text/html": [
              "<span style=\"color:#4527A0\"><h1 style=\"font-size:18px\">Trial summary</h1></span>"
            ],
            "text/plain": [
              "<IPython.core.display.HTML object>"
            ]
          },
          "metadata": {
            "tags": []
          }
        },
        {
          "output_type": "display_data",
          "data": {
            "text/html": [
              "<span style=\"color:cyan\"> |-Trial ID: 16d79a642dbd677170dfa2d45feaa07c</span>"
            ],
            "text/plain": [
              "<IPython.core.display.HTML object>"
            ]
          },
          "metadata": {
            "tags": []
          }
        },
        {
          "output_type": "display_data",
          "data": {
            "text/html": [
              "<span style=\"color:cyan\"> |-Score: 0.9825666745503744</span>"
            ],
            "text/plain": [
              "<IPython.core.display.HTML object>"
            ]
          },
          "metadata": {
            "tags": []
          }
        },
        {
          "output_type": "display_data",
          "data": {
            "text/html": [
              "<span style=\"color:cyan\"> |-Best step: 0</span>"
            ],
            "text/plain": [
              "<IPython.core.display.HTML object>"
            ]
          },
          "metadata": {
            "tags": []
          }
        },
        {
          "output_type": "display_data",
          "data": {
            "text/html": [
              "<span style=\"color:#7E57C2\"><h2 style=\"font-size:16px\">Hyperparameters:</h2></span>"
            ],
            "text/plain": [
              "<IPython.core.display.HTML object>"
            ]
          },
          "metadata": {
            "tags": []
          }
        },
        {
          "output_type": "display_data",
          "data": {
            "text/html": [
              "<span style=\"color:cyan\"> |-conv_layers: 3</span>"
            ],
            "text/plain": [
              "<IPython.core.display.HTML object>"
            ]
          },
          "metadata": {
            "tags": []
          }
        },
        {
          "output_type": "display_data",
          "data": {
            "text/html": [
              "<span style=\"color:blue\"> |-filters_0: 16</span>"
            ],
            "text/plain": [
              "<IPython.core.display.HTML object>"
            ]
          },
          "metadata": {
            "tags": []
          }
        },
        {
          "output_type": "display_data",
          "data": {
            "text/html": [
              "<span style=\"color:cyan\"> |-filters_1: 28</span>"
            ],
            "text/plain": [
              "<IPython.core.display.HTML object>"
            ]
          },
          "metadata": {
            "tags": []
          }
        },
        {
          "output_type": "display_data",
          "data": {
            "text/html": [
              "<span style=\"color:blue\"> |-filters_2: 20</span>"
            ],
            "text/plain": [
              "<IPython.core.display.HTML object>"
            ]
          },
          "metadata": {
            "tags": []
          }
        },
        {
          "output_type": "display_data",
          "data": {
            "text/html": [
              "<span style=\"color:cyan\"> |-global_pooling: avg</span>"
            ],
            "text/plain": [
              "<IPython.core.display.HTML object>"
            ]
          },
          "metadata": {
            "tags": []
          }
        },
        {
          "output_type": "display_data",
          "data": {
            "text/html": [
              "<span style=\"color:blue\"> |-kernel_size_0: 3</span>"
            ],
            "text/plain": [
              "<IPython.core.display.HTML object>"
            ]
          },
          "metadata": {
            "tags": []
          }
        },
        {
          "output_type": "display_data",
          "data": {
            "text/html": [
              "<span style=\"color:cyan\"> |-kernel_size_1: 4</span>"
            ],
            "text/plain": [
              "<IPython.core.display.HTML object>"
            ]
          },
          "metadata": {
            "tags": []
          }
        },
        {
          "output_type": "display_data",
          "data": {
            "text/html": [
              "<span style=\"color:blue\"> |-kernel_size_2: 4</span>"
            ],
            "text/plain": [
              "<IPython.core.display.HTML object>"
            ]
          },
          "metadata": {
            "tags": []
          }
        },
        {
          "output_type": "display_data",
          "data": {
            "text/html": [
              "<span style=\"color:cyan\"> |-optimizer: sgd</span>"
            ],
            "text/plain": [
              "<IPython.core.display.HTML object>"
            ]
          },
          "metadata": {
            "tags": []
          }
        },
        {
          "output_type": "display_data",
          "data": {
            "text/html": [
              "<span style=\"color:blue\"> |-pooling0: max</span>"
            ],
            "text/plain": [
              "<IPython.core.display.HTML object>"
            ]
          },
          "metadata": {
            "tags": []
          }
        },
        {
          "output_type": "display_data",
          "data": {
            "text/html": [
              "<span style=\"color:cyan\"> |-pooling1: avg</span>"
            ],
            "text/plain": [
              "<IPython.core.display.HTML object>"
            ]
          },
          "metadata": {
            "tags": []
          }
        },
        {
          "output_type": "display_data",
          "data": {
            "text/html": [
              "<span style=\"color:blue\"> |-pooling2: avg</span>"
            ],
            "text/plain": [
              "<IPython.core.display.HTML object>"
            ]
          },
          "metadata": {
            "tags": []
          }
        },
        {
          "output_type": "stream",
          "text": [
            "Epoch 1/20\n",
            "600/600 [==============================] - 14s 23ms/step - loss: 1.1766 - accuracy: 0.7877 - val_loss: 0.9187 - val_accuracy: 0.8067\n",
            "Epoch 2/20\n",
            "600/600 [==============================] - 11s 18ms/step - loss: 0.3350 - accuracy: 0.9509 - val_loss: 0.2640 - val_accuracy: 0.9427\n",
            "Epoch 3/20\n",
            "600/600 [==============================] - 10s 17ms/step - loss: 0.1847 - accuracy: 0.9642 - val_loss: 0.1613 - val_accuracy: 0.9672\n",
            "Epoch 4/20\n",
            "600/600 [==============================] - 11s 19ms/step - loss: 0.1334 - accuracy: 0.9707 - val_loss: 0.1564 - val_accuracy: 0.9601\n",
            "Epoch 1/20\n",
            "600/600 [==============================] - 14s 23ms/step - loss: 1.1114 - accuracy: 0.8075 - val_loss: 0.9474 - val_accuracy: 0.8269\n",
            "Epoch 2/20\n",
            "600/600 [==============================] - 11s 19ms/step - loss: 0.3396 - accuracy: 0.9465 - val_loss: 0.3150 - val_accuracy: 0.9385\n",
            "Epoch 3/20\n",
            "600/600 [==============================] - 10s 17ms/step - loss: 0.1888 - accuracy: 0.9628 - val_loss: 0.2063 - val_accuracy: 0.9558\n",
            "Epoch 4/20\n",
            "600/600 [==============================] - 12s 20ms/step - loss: 0.1346 - accuracy: 0.9704 - val_loss: 0.1643 - val_accuracy: 0.9661\n",
            "Epoch 5/20\n",
            "600/600 [==============================] - 10s 17ms/step - loss: 0.1070 - accuracy: 0.9751 - val_loss: 0.1158 - val_accuracy: 0.9764\n",
            "Epoch 6/20\n",
            "600/600 [==============================] - 10s 17ms/step - loss: 0.0898 - accuracy: 0.9779 - val_loss: 0.1336 - val_accuracy: 0.9645\n",
            "Epoch 1/20\n",
            "600/600 [==============================] - 14s 23ms/step - loss: 1.1158 - accuracy: 0.7950 - val_loss: 0.8142 - val_accuracy: 0.8834\n",
            "Epoch 2/20\n",
            "600/600 [==============================] - 12s 19ms/step - loss: 0.3097 - accuracy: 0.9523 - val_loss: 0.2472 - val_accuracy: 0.9466\n",
            "Epoch 3/20\n",
            "600/600 [==============================] - 10s 17ms/step - loss: 0.1728 - accuracy: 0.9650 - val_loss: 0.1500 - val_accuracy: 0.9662\n",
            "Epoch 4/20\n",
            "600/600 [==============================] - 12s 20ms/step - loss: 0.1256 - accuracy: 0.9719 - val_loss: 0.1375 - val_accuracy: 0.9667\n",
            "Epoch 5/20\n",
            "600/600 [==============================] - 10s 17ms/step - loss: 0.1020 - accuracy: 0.9752 - val_loss: 0.1344 - val_accuracy: 0.9617\n"
          ],
          "name": "stdout"
        },
        {
          "output_type": "display_data",
          "data": {
            "text/html": [
              "<span style=\"color:#4527A0\"><h1 style=\"font-size:18px\">Trial complete</h1></span>"
            ],
            "text/plain": [
              "<IPython.core.display.HTML object>"
            ]
          },
          "metadata": {
            "tags": []
          }
        },
        {
          "output_type": "display_data",
          "data": {
            "text/html": [
              "<span style=\"color:#4527A0\"><h1 style=\"font-size:18px\">Trial summary</h1></span>"
            ],
            "text/plain": [
              "<IPython.core.display.HTML object>"
            ]
          },
          "metadata": {
            "tags": []
          }
        },
        {
          "output_type": "display_data",
          "data": {
            "text/html": [
              "<span style=\"color:cyan\"> |-Trial ID: 8ba299e42063258eb40fdb3ba93f2c10</span>"
            ],
            "text/plain": [
              "<IPython.core.display.HTML object>"
            ]
          },
          "metadata": {
            "tags": []
          }
        },
        {
          "output_type": "display_data",
          "data": {
            "text/html": [
              "<span style=\"color:cyan\"> |-Score: 0.9701000054677328</span>"
            ],
            "text/plain": [
              "<IPython.core.display.HTML object>"
            ]
          },
          "metadata": {
            "tags": []
          }
        },
        {
          "output_type": "display_data",
          "data": {
            "text/html": [
              "<span style=\"color:cyan\"> |-Best step: 0</span>"
            ],
            "text/plain": [
              "<IPython.core.display.HTML object>"
            ]
          },
          "metadata": {
            "tags": []
          }
        },
        {
          "output_type": "display_data",
          "data": {
            "text/html": [
              "<span style=\"color:#7E57C2\"><h2 style=\"font-size:16px\">Hyperparameters:</h2></span>"
            ],
            "text/plain": [
              "<IPython.core.display.HTML object>"
            ]
          },
          "metadata": {
            "tags": []
          }
        },
        {
          "output_type": "display_data",
          "data": {
            "text/html": [
              "<span style=\"color:cyan\"> |-conv_layers: 2</span>"
            ],
            "text/plain": [
              "<IPython.core.display.HTML object>"
            ]
          },
          "metadata": {
            "tags": []
          }
        },
        {
          "output_type": "display_data",
          "data": {
            "text/html": [
              "<span style=\"color:blue\"> |-filters_0: 32</span>"
            ],
            "text/plain": [
              "<IPython.core.display.HTML object>"
            ]
          },
          "metadata": {
            "tags": []
          }
        },
        {
          "output_type": "display_data",
          "data": {
            "text/html": [
              "<span style=\"color:cyan\"> |-filters_1: 24</span>"
            ],
            "text/plain": [
              "<IPython.core.display.HTML object>"
            ]
          },
          "metadata": {
            "tags": []
          }
        },
        {
          "output_type": "display_data",
          "data": {
            "text/html": [
              "<span style=\"color:blue\"> |-filters_2: 20</span>"
            ],
            "text/plain": [
              "<IPython.core.display.HTML object>"
            ]
          },
          "metadata": {
            "tags": []
          }
        },
        {
          "output_type": "display_data",
          "data": {
            "text/html": [
              "<span style=\"color:cyan\"> |-global_pooling: avg</span>"
            ],
            "text/plain": [
              "<IPython.core.display.HTML object>"
            ]
          },
          "metadata": {
            "tags": []
          }
        },
        {
          "output_type": "display_data",
          "data": {
            "text/html": [
              "<span style=\"color:blue\"> |-kernel_size_0: 4</span>"
            ],
            "text/plain": [
              "<IPython.core.display.HTML object>"
            ]
          },
          "metadata": {
            "tags": []
          }
        },
        {
          "output_type": "display_data",
          "data": {
            "text/html": [
              "<span style=\"color:cyan\"> |-kernel_size_1: 3</span>"
            ],
            "text/plain": [
              "<IPython.core.display.HTML object>"
            ]
          },
          "metadata": {
            "tags": []
          }
        },
        {
          "output_type": "display_data",
          "data": {
            "text/html": [
              "<span style=\"color:blue\"> |-kernel_size_2: 4</span>"
            ],
            "text/plain": [
              "<IPython.core.display.HTML object>"
            ]
          },
          "metadata": {
            "tags": []
          }
        },
        {
          "output_type": "display_data",
          "data": {
            "text/html": [
              "<span style=\"color:cyan\"> |-optimizer: adam</span>"
            ],
            "text/plain": [
              "<IPython.core.display.HTML object>"
            ]
          },
          "metadata": {
            "tags": []
          }
        },
        {
          "output_type": "display_data",
          "data": {
            "text/html": [
              "<span style=\"color:blue\"> |-pooling0: max</span>"
            ],
            "text/plain": [
              "<IPython.core.display.HTML object>"
            ]
          },
          "metadata": {
            "tags": []
          }
        },
        {
          "output_type": "display_data",
          "data": {
            "text/html": [
              "<span style=\"color:cyan\"> |-pooling1: max</span>"
            ],
            "text/plain": [
              "<IPython.core.display.HTML object>"
            ]
          },
          "metadata": {
            "tags": []
          }
        },
        {
          "output_type": "display_data",
          "data": {
            "text/html": [
              "<span style=\"color:blue\"> |-pooling2: max</span>"
            ],
            "text/plain": [
              "<IPython.core.display.HTML object>"
            ]
          },
          "metadata": {
            "tags": []
          }
        },
        {
          "output_type": "stream",
          "text": [
            "INFO:tensorflow:Oracle triggered exit\n"
          ],
          "name": "stdout"
        },
        {
          "output_type": "stream",
          "text": [
            "INFO:tensorflow:Oracle triggered exit\n"
          ],
          "name": "stderr"
        }
      ]
    },
    {
      "cell_type": "code",
      "metadata": {
        "colab_type": "code",
        "id": "-BwVgzvPZOBv",
        "outputId": "d40b1c19-46ec-4fe7-e08c-1af45a00927d",
        "colab": {
          "base_uri": "https://localhost:8080/",
          "height": 1000
        }
      },
      "source": [
        "tuner.results_summary()"
      ],
      "execution_count": 0,
      "outputs": [
        {
          "output_type": "display_data",
          "data": {
            "text/html": [
              "<span style=\"color:#4527A0\"><h1 style=\"font-size:18px\">Results summary</h1></span>"
            ],
            "text/plain": [
              "<IPython.core.display.HTML object>"
            ]
          },
          "metadata": {
            "tags": []
          }
        },
        {
          "output_type": "display_data",
          "data": {
            "text/html": [
              "<span style=\"color:cyan\"> |-Results in results_dir/mnist</span>"
            ],
            "text/plain": [
              "<IPython.core.display.HTML object>"
            ]
          },
          "metadata": {
            "tags": []
          }
        },
        {
          "output_type": "display_data",
          "data": {
            "text/html": [
              "<span style=\"color:cyan\"> |-Showing 10 best trials</span>"
            ],
            "text/plain": [
              "<IPython.core.display.HTML object>"
            ]
          },
          "metadata": {
            "tags": []
          }
        },
        {
          "output_type": "display_data",
          "data": {
            "text/html": [
              "<span style=\"color:cyan\"> |-Objective(name='val_accuracy', direction='max')</span>"
            ],
            "text/plain": [
              "<IPython.core.display.HTML object>"
            ]
          },
          "metadata": {
            "tags": []
          }
        },
        {
          "output_type": "display_data",
          "data": {
            "text/html": [
              "<span style=\"color:#4527A0\"><h1 style=\"font-size:18px\">Trial summary</h1></span>"
            ],
            "text/plain": [
              "<IPython.core.display.HTML object>"
            ]
          },
          "metadata": {
            "tags": []
          }
        },
        {
          "output_type": "display_data",
          "data": {
            "text/html": [
              "<span style=\"color:cyan\"> |-Trial ID: 16d79a642dbd677170dfa2d45feaa07c</span>"
            ],
            "text/plain": [
              "<IPython.core.display.HTML object>"
            ]
          },
          "metadata": {
            "tags": []
          }
        },
        {
          "output_type": "display_data",
          "data": {
            "text/html": [
              "<span style=\"color:cyan\"> |-Score: 0.9825666745503744</span>"
            ],
            "text/plain": [
              "<IPython.core.display.HTML object>"
            ]
          },
          "metadata": {
            "tags": []
          }
        },
        {
          "output_type": "display_data",
          "data": {
            "text/html": [
              "<span style=\"color:cyan\"> |-Best step: 0</span>"
            ],
            "text/plain": [
              "<IPython.core.display.HTML object>"
            ]
          },
          "metadata": {
            "tags": []
          }
        },
        {
          "output_type": "display_data",
          "data": {
            "text/html": [
              "<span style=\"color:#7E57C2\"><h2 style=\"font-size:16px\">Hyperparameters:</h2></span>"
            ],
            "text/plain": [
              "<IPython.core.display.HTML object>"
            ]
          },
          "metadata": {
            "tags": []
          }
        },
        {
          "output_type": "display_data",
          "data": {
            "text/html": [
              "<span style=\"color:cyan\"> |-conv_layers: 3</span>"
            ],
            "text/plain": [
              "<IPython.core.display.HTML object>"
            ]
          },
          "metadata": {
            "tags": []
          }
        },
        {
          "output_type": "display_data",
          "data": {
            "text/html": [
              "<span style=\"color:blue\"> |-filters_0: 16</span>"
            ],
            "text/plain": [
              "<IPython.core.display.HTML object>"
            ]
          },
          "metadata": {
            "tags": []
          }
        },
        {
          "output_type": "display_data",
          "data": {
            "text/html": [
              "<span style=\"color:cyan\"> |-filters_1: 28</span>"
            ],
            "text/plain": [
              "<IPython.core.display.HTML object>"
            ]
          },
          "metadata": {
            "tags": []
          }
        },
        {
          "output_type": "display_data",
          "data": {
            "text/html": [
              "<span style=\"color:blue\"> |-filters_2: 20</span>"
            ],
            "text/plain": [
              "<IPython.core.display.HTML object>"
            ]
          },
          "metadata": {
            "tags": []
          }
        },
        {
          "output_type": "display_data",
          "data": {
            "text/html": [
              "<span style=\"color:cyan\"> |-global_pooling: avg</span>"
            ],
            "text/plain": [
              "<IPython.core.display.HTML object>"
            ]
          },
          "metadata": {
            "tags": []
          }
        },
        {
          "output_type": "display_data",
          "data": {
            "text/html": [
              "<span style=\"color:blue\"> |-kernel_size_0: 3</span>"
            ],
            "text/plain": [
              "<IPython.core.display.HTML object>"
            ]
          },
          "metadata": {
            "tags": []
          }
        },
        {
          "output_type": "display_data",
          "data": {
            "text/html": [
              "<span style=\"color:cyan\"> |-kernel_size_1: 4</span>"
            ],
            "text/plain": [
              "<IPython.core.display.HTML object>"
            ]
          },
          "metadata": {
            "tags": []
          }
        },
        {
          "output_type": "display_data",
          "data": {
            "text/html": [
              "<span style=\"color:blue\"> |-kernel_size_2: 4</span>"
            ],
            "text/plain": [
              "<IPython.core.display.HTML object>"
            ]
          },
          "metadata": {
            "tags": []
          }
        },
        {
          "output_type": "display_data",
          "data": {
            "text/html": [
              "<span style=\"color:cyan\"> |-optimizer: sgd</span>"
            ],
            "text/plain": [
              "<IPython.core.display.HTML object>"
            ]
          },
          "metadata": {
            "tags": []
          }
        },
        {
          "output_type": "display_data",
          "data": {
            "text/html": [
              "<span style=\"color:blue\"> |-pooling0: max</span>"
            ],
            "text/plain": [
              "<IPython.core.display.HTML object>"
            ]
          },
          "metadata": {
            "tags": []
          }
        },
        {
          "output_type": "display_data",
          "data": {
            "text/html": [
              "<span style=\"color:cyan\"> |-pooling1: avg</span>"
            ],
            "text/plain": [
              "<IPython.core.display.HTML object>"
            ]
          },
          "metadata": {
            "tags": []
          }
        },
        {
          "output_type": "display_data",
          "data": {
            "text/html": [
              "<span style=\"color:blue\"> |-pooling2: avg</span>"
            ],
            "text/plain": [
              "<IPython.core.display.HTML object>"
            ]
          },
          "metadata": {
            "tags": []
          }
        },
        {
          "output_type": "display_data",
          "data": {
            "text/html": [
              "<span style=\"color:#4527A0\"><h1 style=\"font-size:18px\">Trial summary</h1></span>"
            ],
            "text/plain": [
              "<IPython.core.display.HTML object>"
            ]
          },
          "metadata": {
            "tags": []
          }
        },
        {
          "output_type": "display_data",
          "data": {
            "text/html": [
              "<span style=\"color:cyan\"> |-Trial ID: 8ba299e42063258eb40fdb3ba93f2c10</span>"
            ],
            "text/plain": [
              "<IPython.core.display.HTML object>"
            ]
          },
          "metadata": {
            "tags": []
          }
        },
        {
          "output_type": "display_data",
          "data": {
            "text/html": [
              "<span style=\"color:cyan\"> |-Score: 0.9701000054677328</span>"
            ],
            "text/plain": [
              "<IPython.core.display.HTML object>"
            ]
          },
          "metadata": {
            "tags": []
          }
        },
        {
          "output_type": "display_data",
          "data": {
            "text/html": [
              "<span style=\"color:cyan\"> |-Best step: 0</span>"
            ],
            "text/plain": [
              "<IPython.core.display.HTML object>"
            ]
          },
          "metadata": {
            "tags": []
          }
        },
        {
          "output_type": "display_data",
          "data": {
            "text/html": [
              "<span style=\"color:#7E57C2\"><h2 style=\"font-size:16px\">Hyperparameters:</h2></span>"
            ],
            "text/plain": [
              "<IPython.core.display.HTML object>"
            ]
          },
          "metadata": {
            "tags": []
          }
        },
        {
          "output_type": "display_data",
          "data": {
            "text/html": [
              "<span style=\"color:cyan\"> |-conv_layers: 2</span>"
            ],
            "text/plain": [
              "<IPython.core.display.HTML object>"
            ]
          },
          "metadata": {
            "tags": []
          }
        },
        {
          "output_type": "display_data",
          "data": {
            "text/html": [
              "<span style=\"color:blue\"> |-filters_0: 32</span>"
            ],
            "text/plain": [
              "<IPython.core.display.HTML object>"
            ]
          },
          "metadata": {
            "tags": []
          }
        },
        {
          "output_type": "display_data",
          "data": {
            "text/html": [
              "<span style=\"color:cyan\"> |-filters_1: 24</span>"
            ],
            "text/plain": [
              "<IPython.core.display.HTML object>"
            ]
          },
          "metadata": {
            "tags": []
          }
        },
        {
          "output_type": "display_data",
          "data": {
            "text/html": [
              "<span style=\"color:blue\"> |-filters_2: 20</span>"
            ],
            "text/plain": [
              "<IPython.core.display.HTML object>"
            ]
          },
          "metadata": {
            "tags": []
          }
        },
        {
          "output_type": "display_data",
          "data": {
            "text/html": [
              "<span style=\"color:cyan\"> |-global_pooling: avg</span>"
            ],
            "text/plain": [
              "<IPython.core.display.HTML object>"
            ]
          },
          "metadata": {
            "tags": []
          }
        },
        {
          "output_type": "display_data",
          "data": {
            "text/html": [
              "<span style=\"color:blue\"> |-kernel_size_0: 4</span>"
            ],
            "text/plain": [
              "<IPython.core.display.HTML object>"
            ]
          },
          "metadata": {
            "tags": []
          }
        },
        {
          "output_type": "display_data",
          "data": {
            "text/html": [
              "<span style=\"color:cyan\"> |-kernel_size_1: 3</span>"
            ],
            "text/plain": [
              "<IPython.core.display.HTML object>"
            ]
          },
          "metadata": {
            "tags": []
          }
        },
        {
          "output_type": "display_data",
          "data": {
            "text/html": [
              "<span style=\"color:blue\"> |-kernel_size_2: 4</span>"
            ],
            "text/plain": [
              "<IPython.core.display.HTML object>"
            ]
          },
          "metadata": {
            "tags": []
          }
        },
        {
          "output_type": "display_data",
          "data": {
            "text/html": [
              "<span style=\"color:cyan\"> |-optimizer: adam</span>"
            ],
            "text/plain": [
              "<IPython.core.display.HTML object>"
            ]
          },
          "metadata": {
            "tags": []
          }
        },
        {
          "output_type": "display_data",
          "data": {
            "text/html": [
              "<span style=\"color:blue\"> |-pooling0: max</span>"
            ],
            "text/plain": [
              "<IPython.core.display.HTML object>"
            ]
          },
          "metadata": {
            "tags": []
          }
        },
        {
          "output_type": "display_data",
          "data": {
            "text/html": [
              "<span style=\"color:cyan\"> |-pooling1: max</span>"
            ],
            "text/plain": [
              "<IPython.core.display.HTML object>"
            ]
          },
          "metadata": {
            "tags": []
          }
        },
        {
          "output_type": "display_data",
          "data": {
            "text/html": [
              "<span style=\"color:blue\"> |-pooling2: max</span>"
            ],
            "text/plain": [
              "<IPython.core.display.HTML object>"
            ]
          },
          "metadata": {
            "tags": []
          }
        },
        {
          "output_type": "display_data",
          "data": {
            "text/html": [
              "<span style=\"color:#4527A0\"><h1 style=\"font-size:18px\">Trial summary</h1></span>"
            ],
            "text/plain": [
              "<IPython.core.display.HTML object>"
            ]
          },
          "metadata": {
            "tags": []
          }
        },
        {
          "output_type": "display_data",
          "data": {
            "text/html": [
              "<span style=\"color:cyan\"> |-Trial ID: eaac4957cf2a0a041724107c7d03f5b0</span>"
            ],
            "text/plain": [
              "<IPython.core.display.HTML object>"
            ]
          },
          "metadata": {
            "tags": []
          }
        },
        {
          "output_type": "display_data",
          "data": {
            "text/html": [
              "<span style=\"color:cyan\"> |-Score: 0.9662333329518636</span>"
            ],
            "text/plain": [
              "<IPython.core.display.HTML object>"
            ]
          },
          "metadata": {
            "tags": []
          }
        },
        {
          "output_type": "display_data",
          "data": {
            "text/html": [
              "<span style=\"color:cyan\"> |-Best step: 0</span>"
            ],
            "text/plain": [
              "<IPython.core.display.HTML object>"
            ]
          },
          "metadata": {
            "tags": []
          }
        },
        {
          "output_type": "display_data",
          "data": {
            "text/html": [
              "<span style=\"color:#7E57C2\"><h2 style=\"font-size:16px\">Hyperparameters:</h2></span>"
            ],
            "text/plain": [
              "<IPython.core.display.HTML object>"
            ]
          },
          "metadata": {
            "tags": []
          }
        },
        {
          "output_type": "display_data",
          "data": {
            "text/html": [
              "<span style=\"color:cyan\"> |-conv_layers: 3</span>"
            ],
            "text/plain": [
              "<IPython.core.display.HTML object>"
            ]
          },
          "metadata": {
            "tags": []
          }
        },
        {
          "output_type": "display_data",
          "data": {
            "text/html": [
              "<span style=\"color:blue\"> |-filters_0: 24</span>"
            ],
            "text/plain": [
              "<IPython.core.display.HTML object>"
            ]
          },
          "metadata": {
            "tags": []
          }
        },
        {
          "output_type": "display_data",
          "data": {
            "text/html": [
              "<span style=\"color:cyan\"> |-filters_1: 16</span>"
            ],
            "text/plain": [
              "<IPython.core.display.HTML object>"
            ]
          },
          "metadata": {
            "tags": []
          }
        },
        {
          "output_type": "display_data",
          "data": {
            "text/html": [
              "<span style=\"color:blue\"> |-filters_2: 8</span>"
            ],
            "text/plain": [
              "<IPython.core.display.HTML object>"
            ]
          },
          "metadata": {
            "tags": []
          }
        },
        {
          "output_type": "display_data",
          "data": {
            "text/html": [
              "<span style=\"color:cyan\"> |-global_pooling: max</span>"
            ],
            "text/plain": [
              "<IPython.core.display.HTML object>"
            ]
          },
          "metadata": {
            "tags": []
          }
        },
        {
          "output_type": "display_data",
          "data": {
            "text/html": [
              "<span style=\"color:blue\"> |-kernel_size_0: 4</span>"
            ],
            "text/plain": [
              "<IPython.core.display.HTML object>"
            ]
          },
          "metadata": {
            "tags": []
          }
        },
        {
          "output_type": "display_data",
          "data": {
            "text/html": [
              "<span style=\"color:cyan\"> |-kernel_size_1: 4</span>"
            ],
            "text/plain": [
              "<IPython.core.display.HTML object>"
            ]
          },
          "metadata": {
            "tags": []
          }
        },
        {
          "output_type": "display_data",
          "data": {
            "text/html": [
              "<span style=\"color:blue\"> |-kernel_size_2: 4</span>"
            ],
            "text/plain": [
              "<IPython.core.display.HTML object>"
            ]
          },
          "metadata": {
            "tags": []
          }
        },
        {
          "output_type": "display_data",
          "data": {
            "text/html": [
              "<span style=\"color:cyan\"> |-optimizer: sgd</span>"
            ],
            "text/plain": [
              "<IPython.core.display.HTML object>"
            ]
          },
          "metadata": {
            "tags": []
          }
        },
        {
          "output_type": "display_data",
          "data": {
            "text/html": [
              "<span style=\"color:blue\"> |-pooling0: avg</span>"
            ],
            "text/plain": [
              "<IPython.core.display.HTML object>"
            ]
          },
          "metadata": {
            "tags": []
          }
        },
        {
          "output_type": "display_data",
          "data": {
            "text/html": [
              "<span style=\"color:cyan\"> |-pooling1: avg</span>"
            ],
            "text/plain": [
              "<IPython.core.display.HTML object>"
            ]
          },
          "metadata": {
            "tags": []
          }
        },
        {
          "output_type": "display_data",
          "data": {
            "text/html": [
              "<span style=\"color:blue\"> |-pooling2: avg</span>"
            ],
            "text/plain": [
              "<IPython.core.display.HTML object>"
            ]
          },
          "metadata": {
            "tags": []
          }
        },
        {
          "output_type": "display_data",
          "data": {
            "text/html": [
              "<span style=\"color:#4527A0\"><h1 style=\"font-size:18px\">Trial summary</h1></span>"
            ],
            "text/plain": [
              "<IPython.core.display.HTML object>"
            ]
          },
          "metadata": {
            "tags": []
          }
        },
        {
          "output_type": "display_data",
          "data": {
            "text/html": [
              "<span style=\"color:cyan\"> |-Trial ID: 6817990f846a298a25b895419a466040</span>"
            ],
            "text/plain": [
              "<IPython.core.display.HTML object>"
            ]
          },
          "metadata": {
            "tags": []
          }
        },
        {
          "output_type": "display_data",
          "data": {
            "text/html": [
              "<span style=\"color:cyan\"> |-Score: 0.9387333194414774</span>"
            ],
            "text/plain": [
              "<IPython.core.display.HTML object>"
            ]
          },
          "metadata": {
            "tags": []
          }
        },
        {
          "output_type": "display_data",
          "data": {
            "text/html": [
              "<span style=\"color:cyan\"> |-Best step: 0</span>"
            ],
            "text/plain": [
              "<IPython.core.display.HTML object>"
            ]
          },
          "metadata": {
            "tags": []
          }
        },
        {
          "output_type": "display_data",
          "data": {
            "text/html": [
              "<span style=\"color:#7E57C2\"><h2 style=\"font-size:16px\">Hyperparameters:</h2></span>"
            ],
            "text/plain": [
              "<IPython.core.display.HTML object>"
            ]
          },
          "metadata": {
            "tags": []
          }
        },
        {
          "output_type": "display_data",
          "data": {
            "text/html": [
              "<span style=\"color:cyan\"> |-conv_layers: 2</span>"
            ],
            "text/plain": [
              "<IPython.core.display.HTML object>"
            ]
          },
          "metadata": {
            "tags": []
          }
        },
        {
          "output_type": "display_data",
          "data": {
            "text/html": [
              "<span style=\"color:blue\"> |-filters_0: 4</span>"
            ],
            "text/plain": [
              "<IPython.core.display.HTML object>"
            ]
          },
          "metadata": {
            "tags": []
          }
        },
        {
          "output_type": "display_data",
          "data": {
            "text/html": [
              "<span style=\"color:cyan\"> |-filters_1: 20</span>"
            ],
            "text/plain": [
              "<IPython.core.display.HTML object>"
            ]
          },
          "metadata": {
            "tags": []
          }
        },
        {
          "output_type": "display_data",
          "data": {
            "text/html": [
              "<span style=\"color:blue\"> |-filters_2: 24</span>"
            ],
            "text/plain": [
              "<IPython.core.display.HTML object>"
            ]
          },
          "metadata": {
            "tags": []
          }
        },
        {
          "output_type": "display_data",
          "data": {
            "text/html": [
              "<span style=\"color:cyan\"> |-global_pooling: max</span>"
            ],
            "text/plain": [
              "<IPython.core.display.HTML object>"
            ]
          },
          "metadata": {
            "tags": []
          }
        },
        {
          "output_type": "display_data",
          "data": {
            "text/html": [
              "<span style=\"color:blue\"> |-kernel_size_0: 5</span>"
            ],
            "text/plain": [
              "<IPython.core.display.HTML object>"
            ]
          },
          "metadata": {
            "tags": []
          }
        },
        {
          "output_type": "display_data",
          "data": {
            "text/html": [
              "<span style=\"color:cyan\"> |-kernel_size_1: 4</span>"
            ],
            "text/plain": [
              "<IPython.core.display.HTML object>"
            ]
          },
          "metadata": {
            "tags": []
          }
        },
        {
          "output_type": "display_data",
          "data": {
            "text/html": [
              "<span style=\"color:blue\"> |-kernel_size_2: 3</span>"
            ],
            "text/plain": [
              "<IPython.core.display.HTML object>"
            ]
          },
          "metadata": {
            "tags": []
          }
        },
        {
          "output_type": "display_data",
          "data": {
            "text/html": [
              "<span style=\"color:cyan\"> |-optimizer: sgd</span>"
            ],
            "text/plain": [
              "<IPython.core.display.HTML object>"
            ]
          },
          "metadata": {
            "tags": []
          }
        },
        {
          "output_type": "display_data",
          "data": {
            "text/html": [
              "<span style=\"color:blue\"> |-pooling0: avg</span>"
            ],
            "text/plain": [
              "<IPython.core.display.HTML object>"
            ]
          },
          "metadata": {
            "tags": []
          }
        },
        {
          "output_type": "display_data",
          "data": {
            "text/html": [
              "<span style=\"color:cyan\"> |-pooling1: avg</span>"
            ],
            "text/plain": [
              "<IPython.core.display.HTML object>"
            ]
          },
          "metadata": {
            "tags": []
          }
        },
        {
          "output_type": "display_data",
          "data": {
            "text/html": [
              "<span style=\"color:blue\"> |-pooling2: avg</span>"
            ],
            "text/plain": [
              "<IPython.core.display.HTML object>"
            ]
          },
          "metadata": {
            "tags": []
          }
        },
        {
          "output_type": "display_data",
          "data": {
            "text/html": [
              "<span style=\"color:#4527A0\"><h1 style=\"font-size:18px\">Trial summary</h1></span>"
            ],
            "text/plain": [
              "<IPython.core.display.HTML object>"
            ]
          },
          "metadata": {
            "tags": []
          }
        },
        {
          "output_type": "display_data",
          "data": {
            "text/html": [
              "<span style=\"color:cyan\"> |-Trial ID: 912089b23b64f8bc26da3ed140fc240c</span>"
            ],
            "text/plain": [
              "<IPython.core.display.HTML object>"
            ]
          },
          "metadata": {
            "tags": []
          }
        },
        {
          "output_type": "display_data",
          "data": {
            "text/html": [
              "<span style=\"color:cyan\"> |-Score: 0.9154666662216187</span>"
            ],
            "text/plain": [
              "<IPython.core.display.HTML object>"
            ]
          },
          "metadata": {
            "tags": []
          }
        },
        {
          "output_type": "display_data",
          "data": {
            "text/html": [
              "<span style=\"color:cyan\"> |-Best step: 0</span>"
            ],
            "text/plain": [
              "<IPython.core.display.HTML object>"
            ]
          },
          "metadata": {
            "tags": []
          }
        },
        {
          "output_type": "display_data",
          "data": {
            "text/html": [
              "<span style=\"color:#7E57C2\"><h2 style=\"font-size:16px\">Hyperparameters:</h2></span>"
            ],
            "text/plain": [
              "<IPython.core.display.HTML object>"
            ]
          },
          "metadata": {
            "tags": []
          }
        },
        {
          "output_type": "display_data",
          "data": {
            "text/html": [
              "<span style=\"color:cyan\"> |-conv_layers: 2</span>"
            ],
            "text/plain": [
              "<IPython.core.display.HTML object>"
            ]
          },
          "metadata": {
            "tags": []
          }
        },
        {
          "output_type": "display_data",
          "data": {
            "text/html": [
              "<span style=\"color:blue\"> |-filters_0: 12</span>"
            ],
            "text/plain": [
              "<IPython.core.display.HTML object>"
            ]
          },
          "metadata": {
            "tags": []
          }
        },
        {
          "output_type": "display_data",
          "data": {
            "text/html": [
              "<span style=\"color:cyan\"> |-filters_1: 12</span>"
            ],
            "text/plain": [
              "<IPython.core.display.HTML object>"
            ]
          },
          "metadata": {
            "tags": []
          }
        },
        {
          "output_type": "display_data",
          "data": {
            "text/html": [
              "<span style=\"color:blue\"> |-filters_2: 32</span>"
            ],
            "text/plain": [
              "<IPython.core.display.HTML object>"
            ]
          },
          "metadata": {
            "tags": []
          }
        },
        {
          "output_type": "display_data",
          "data": {
            "text/html": [
              "<span style=\"color:cyan\"> |-global_pooling: max</span>"
            ],
            "text/plain": [
              "<IPython.core.display.HTML object>"
            ]
          },
          "metadata": {
            "tags": []
          }
        },
        {
          "output_type": "display_data",
          "data": {
            "text/html": [
              "<span style=\"color:blue\"> |-kernel_size_0: 4</span>"
            ],
            "text/plain": [
              "<IPython.core.display.HTML object>"
            ]
          },
          "metadata": {
            "tags": []
          }
        },
        {
          "output_type": "display_data",
          "data": {
            "text/html": [
              "<span style=\"color:cyan\"> |-kernel_size_1: 3</span>"
            ],
            "text/plain": [
              "<IPython.core.display.HTML object>"
            ]
          },
          "metadata": {
            "tags": []
          }
        },
        {
          "output_type": "display_data",
          "data": {
            "text/html": [
              "<span style=\"color:blue\"> |-kernel_size_2: 3</span>"
            ],
            "text/plain": [
              "<IPython.core.display.HTML object>"
            ]
          },
          "metadata": {
            "tags": []
          }
        },
        {
          "output_type": "display_data",
          "data": {
            "text/html": [
              "<span style=\"color:cyan\"> |-optimizer: sgd</span>"
            ],
            "text/plain": [
              "<IPython.core.display.HTML object>"
            ]
          },
          "metadata": {
            "tags": []
          }
        },
        {
          "output_type": "display_data",
          "data": {
            "text/html": [
              "<span style=\"color:blue\"> |-pooling0: max</span>"
            ],
            "text/plain": [
              "<IPython.core.display.HTML object>"
            ]
          },
          "metadata": {
            "tags": []
          }
        },
        {
          "output_type": "display_data",
          "data": {
            "text/html": [
              "<span style=\"color:cyan\"> |-pooling1: max</span>"
            ],
            "text/plain": [
              "<IPython.core.display.HTML object>"
            ]
          },
          "metadata": {
            "tags": []
          }
        },
        {
          "output_type": "display_data",
          "data": {
            "text/html": [
              "<span style=\"color:blue\"> |-pooling2: max</span>"
            ],
            "text/plain": [
              "<IPython.core.display.HTML object>"
            ]
          },
          "metadata": {
            "tags": []
          }
        }
      ]
    },
    {
      "cell_type": "code",
      "metadata": {
        "colab_type": "code",
        "id": "1Qj1Rn9CpgQ-",
        "outputId": "b6730bfd-35d6-4d42-d655-70ba7df686a5",
        "colab": {
          "base_uri": "https://localhost:8080/",
          "height": 218
        }
      },
      "source": [
        "tuner.get_best_hyperparameters()[0].values"
      ],
      "execution_count": 0,
      "outputs": [
        {
          "output_type": "execute_result",
          "data": {
            "text/plain": [
              "{'conv_layers': 3,\n",
              " 'filters_0': 16,\n",
              " 'filters_1': 28,\n",
              " 'filters_2': 20,\n",
              " 'global_pooling': 'avg',\n",
              " 'kernel_size_0': 3,\n",
              " 'kernel_size_1': 4,\n",
              " 'kernel_size_2': 4,\n",
              " 'optimizer': 'sgd',\n",
              " 'pooling0': 'max',\n",
              " 'pooling1': 'avg',\n",
              " 'pooling2': 'avg'}"
            ]
          },
          "metadata": {
            "tags": []
          },
          "execution_count": 13
        }
      ]
    },
    {
      "cell_type": "markdown",
      "metadata": {
        "colab_type": "text",
        "id": "6q-tx71TTIQY"
      },
      "source": [
        "## Callbacks\n",
        "\n",
        "`model.fit(dataset, ..,  callbacks=[..])`"
      ]
    },
    {
      "cell_type": "markdown",
      "metadata": {
        "colab_type": "text",
        "id": "ElPhvQ4zXae8"
      },
      "source": [
        "**Batch stats**"
      ]
    },
    {
      "cell_type": "code",
      "metadata": {
        "colab_type": "code",
        "id": "iDnd34TVTOBa",
        "colab": {}
      },
      "source": [
        "class CollectBatchStats(tf.keras.callbacks.Callback):\n",
        "    def __init__(self):\n",
        "        self.batch_losses = []\n",
        "        self.batch_acc = []\n",
        "        self.batch_val_losses = []\n",
        "        self.batch_val_acc = []\n",
        "\n",
        "    def on_train_batch_end(self, batch, logs=None):\n",
        "        self.batch_losses.append(logs['loss'])\n",
        "        self.batch_acc.append(logs['acc'])\n",
        "        # reset_metrics: the metrics returned will be only for this batch. \n",
        "        # If False, the metrics will be statefully accumulated across batches.\n",
        "        self.model.reset_metrics()\n",
        "  \n",
        "    def on_test_batch_end(self, batch, logs=None):\n",
        "        self.batch_val_losses.append(logs['loss'])\n",
        "        self.batch_val_acc.append(logs['acc'])\n",
        "        # reset_metrics: the metrics returned will be only for this batch. \n",
        "        # If False, the metrics will be statefully accumulated across batches.\n",
        "        self.model.reset_metrics()\n",
        "\n",
        "def plot_stats(training_stats, val_stats, x_label='Training Steps', stats='loss'):\n",
        "    stats, x_label = stats.title(), x_label.title()\n",
        "    legend_loc = 'upper right' if stats=='loss' else 'lower right'\n",
        "    training_steps = len(training_stats)\n",
        "    test_steps = len(val_stats)\n",
        "\n",
        "    plt.figure()\n",
        "    plt.ylabel(stats)\n",
        "    plt.xlabel(x_label)\n",
        "    plt.plot(training_stats, label='Training' + stats)\n",
        "    plt.plot(np.linspace(0, training_steps, test_steps), val_stats, label='Validation' + stats)\n",
        "    plt.ylim([0,max(plt.ylim())])\n",
        "    plt.legend(loc=legend_loc)\n",
        "    plt.show()\n",
        "\n",
        "batch_stats_callback = CollectBatchStats()"
      ],
      "execution_count": 0,
      "outputs": []
    },
    {
      "cell_type": "markdown",
      "metadata": {
        "colab_type": "text",
        "id": "pvgXP3o4eMXN"
      },
      "source": [
        "**Early Stopping**"
      ]
    },
    {
      "cell_type": "code",
      "metadata": {
        "colab_type": "code",
        "id": "dwIyLplTTN_a",
        "colab": {}
      },
      "source": [
        "es_callback = keras.callbacks.EarlyStopping(\n",
        "    # Stop training when `val_loss` is no longer improving\n",
        "    monitor='val_loss',\n",
        "    # \"no longer improving\" being defined as \"no better than 1e-2 less\"\n",
        "    min_delta=1e-2,\n",
        "    # \"no longer improving\" being further defined as \"for at least 2 epochs\"\n",
        "    patience=2,\n",
        "    verbose=1)"
      ],
      "execution_count": 0,
      "outputs": []
    },
    {
      "cell_type": "markdown",
      "metadata": {
        "colab_type": "text",
        "id": "cif4r__LegMg"
      },
      "source": [
        "**Model Checkpointing**"
      ]
    },
    {
      "cell_type": "code",
      "metadata": {
        "colab_type": "code",
        "id": "gQwrzt7teidv",
        "colab": {}
      },
      "source": [
        "keras.callbacks.ModelCheckpoint(\n",
        "        filepath='mymodel_{epoch}.h5',\n",
        "        # Path where to save the model\n",
        "        # The two parameters below mean that we will overwrite\n",
        "        # the current checkpoint if and only if\n",
        "        # the `val_loss` score has improved.\n",
        "        save_best_only=True,\n",
        "        monitor='val_loss',\n",
        "        verbose=1)"
      ],
      "execution_count": 0,
      "outputs": []
    },
    {
      "cell_type": "markdown",
      "metadata": {
        "colab_type": "text",
        "id": "ogQ5OW2FevAw"
      },
      "source": [
        "**Learning rate schedule**\n",
        "\n",
        "Several built-in schedules are available: ExponentialDecay,PiecewiseConstantDecay, PolynomialDecay, and InverseTimeDecay.\n",
        "\n",
        "Documentation [tf.keras.optimizers.schedules](https://www.tensorflow.org/api_docs/python/tf/keras/optimizers/schedules)"
      ]
    },
    {
      "cell_type": "code",
      "metadata": {
        "colab_type": "code",
        "id": "ctFjlE9pex5b",
        "colab": {}
      },
      "source": [
        "initial_learning_rate = 0.1\n",
        "lr_schedule = keras.optimizers.schedules.ExponentialDecay(\n",
        "    initial_learning_rate,\n",
        "    decay_steps=100000,\n",
        "    decay_rate=0.96,\n",
        "    staircase=True)\n",
        "\n",
        "optimizer = keras.optimizers.RMSprop(learning_rate=lr_schedule)"
      ],
      "execution_count": 0,
      "outputs": []
    },
    {
      "cell_type": "markdown",
      "metadata": {
        "colab_type": "text",
        "id": "76rbBMZAfbbx"
      },
      "source": [
        "## **TensorBoard**"
      ]
    },
    {
      "cell_type": "code",
      "metadata": {
        "colab_type": "code",
        "id": "G2Fvs5uyfcwd",
        "colab": {}
      },
      "source": [
        "keras.callbacks.TensorBoard(\n",
        "  log_dir='/full_path_to_your_logs',\n",
        "  histogram_freq=0,  # How often to log histogram visualizations\n",
        "  embeddings_freq=0,  # How often to log embedding visualizations\n",
        "  update_freq='epoch')  # How often to write logs (default: once per epoch)"
      ],
      "execution_count": 0,
      "outputs": []
    },
    {
      "cell_type": "code",
      "metadata": {
        "colab_type": "code",
        "id": "z1OJrK8egxSm",
        "colab": {}
      },
      "source": [
        "# Load the TensorBoard notebook extension\n",
        "%load_ext tensorboard"
      ],
      "execution_count": 0,
      "outputs": []
    },
    {
      "cell_type": "code",
      "metadata": {
        "colab_type": "code",
        "id": "TBej-h64g1SA",
        "colab": {}
      },
      "source": [
        "# Clear any logs from previous runs\n",
        "!rm -rf ./logs/"
      ],
      "execution_count": 0,
      "outputs": []
    },
    {
      "cell_type": "code",
      "metadata": {
        "colab_type": "code",
        "id": "PHBTHJiUg1xu",
        "colab": {}
      },
      "source": [
        "# You should be able to launch TensorBoard from the command line\n",
        "%tensorboard --logdir ./logs/"
      ],
      "execution_count": 0,
      "outputs": []
    },
    {
      "cell_type": "markdown",
      "metadata": {
        "colab_type": "text",
        "id": "zWLOlxpLjrND"
      },
      "source": [
        "## **Plot the result**\n"
      ]
    },
    {
      "cell_type": "code",
      "metadata": {
        "colab_type": "code",
        "id": "xTgA94Wkkbxq",
        "colab": {}
      },
      "source": [
        "# Take 1 batch out to test\n",
        "for image_batch, label_batch in test_set:\n",
        "    print(\"Image batch shape: \", image_batch.shape)\n",
        "    print(\"Label batch shape: \", label_batch.shape)\n",
        "    break\n",
        "\n",
        "predicted_batch = model.predict(image_batch)\n",
        "predicted_id = np.argmax(predicted_batch, axis=1)\n",
        "predicted_label_batch = label_names[predicted_id]"
      ],
      "execution_count": 0,
      "outputs": []
    },
    {
      "cell_type": "code",
      "metadata": {
        "colab_type": "code",
        "id": "1EFp_Vf-juUI",
        "colab": {}
      },
      "source": [
        "# Plot the result\n",
        "plt.figure(figsize=(10,9))\n",
        "plt.subplots_adjust(hspace=0.5)\n",
        "for n in range(30):\n",
        "    plt.subplot(6,5,n+1)\n",
        "    plt.imshow((image_batch[n]+1)/2)\n",
        "    color = \"green\" if predicted_id[n] == label_batch.numpy()[n] else \"red\"\n",
        "    plt.title(predicted_label_batch[n].title(), color=color)\n",
        "    plt.axis('off')\n",
        "_ = plt.suptitle(\"Model predictions (green: correct, red: incorrect)\")"
      ],
      "execution_count": 0,
      "outputs": []
    },
    {
      "cell_type": "markdown",
      "metadata": {
        "colab_type": "text",
        "id": "5vqvpUaOlWFI"
      },
      "source": [
        "## **Error Analysis**"
      ]
    },
    {
      "cell_type": "code",
      "metadata": {
        "colab_type": "code",
        "id": "QCjaQDWplYBE",
        "colab": {}
      },
      "source": [
        "ground_truth = validation_generator.classes\n",
        "filenames = validation_generator.filenames\n",
        "label_to_index = validation_generator.class_indices\n",
        "index_to_label = dict((v,k) for k, v in label_to_index.items())\n",
        "predictions = model.predict_generator(validation_generator, steps=None)\n",
        "\n",
        "# prediction_table is a dict with index, prediction, ground truth\n",
        "prediction_table = {}\n",
        "for index, val in enumerate(predictions):\n",
        "    # get argmax index\n",
        "    index_of_highest_probability = np.argmax(val)\n",
        "    value_of_highest_probability = val[index_of_highest_probability]\n",
        "    prediction_table[index] = [value_of_highest_probability, \n",
        "                               index_of_highest_probability, \n",
        "                               ground_truth[index]]\n",
        "assert len(predictions) == len(ground_truth) == len(prediction_table)"
      ],
      "execution_count": 0,
      "outputs": []
    },
    {
      "cell_type": "code",
      "metadata": {
        "colab_type": "code",
        "id": "hFmhHQnVlzXJ",
        "colab": {}
      },
      "source": [
        "def get_images_with_sorted_probabilities(prediction_table,\n",
        "                                         get_highest_probability,\n",
        "                                         label,\n",
        "                                         number_of_items,\n",
        "                                         only_false_predictions=False):\n",
        "    sorted_prediction_table = [(k, prediction_table[k])\n",
        "                               for k in sorted(prediction_table,\n",
        "                                               key=prediction_table.get,\n",
        "                                               reverse=get_highest_probability)\n",
        "                               ]\n",
        "    result = []\n",
        "    for index, key in enumerate(sorted_prediction_table):\n",
        "        image_index, [probability, predicted_index, gt] = key\n",
        "        if predicted_index == label:\n",
        "            if only_false_predictions == True:\n",
        "                if predicted_index != gt:\n",
        "                    result.append(\n",
        "                        [image_index, [probability, predicted_index, gt]])\n",
        "            else:\n",
        "                result.append(\n",
        "                    [image_index, [probability, predicted_index, gt]])\n",
        "    return result[:number_of_items]\n",
        "\n",
        "def plot_images(filenames, distances, message):\n",
        "    images = []\n",
        "    for filename in filenames:\n",
        "        images.append(mpimg.imread(filename))\n",
        "    plt.figure(figsize=(20, 15))\n",
        "    columns = 5\n",
        "    for i, image in enumerate(images):\n",
        "        ax = plt.subplot(len(images) / columns + 1, columns, i + 1)\n",
        "        ax.set_title(\"\\n\\n\" + filenames[i].split(\"/\")[-1] + \"\\n\" +\n",
        "                     \"\\nProbability: \" +\n",
        "                     str(float(\"{0:.2f}\".format(distances[i]))))\n",
        "        plt.suptitle(message, fontsize=20, fontweight='bold')\n",
        "        plt.axis('off')\n",
        "        plt.imshow(image)\n",
        "        \n",
        "def display(sorted_indices, message):\n",
        "    similar_image_paths = []\n",
        "    distances = []\n",
        "    for name, value in sorted_indices:\n",
        "        [probability, predicted_index, gt] = value\n",
        "        similar_image_paths.append(VALIDATION_DATA_DIR + filenames[name])\n",
        "        distances.append(probability)\n",
        "    plot_images(similar_image_paths, distances, message)"
      ],
      "execution_count": 0,
      "outputs": []
    },
    {
      "cell_type": "code",
      "metadata": {
        "colab_type": "code",
        "id": "bqQBt4C3l2wB",
        "colab": {}
      },
      "source": [
        "most_confident_dog_images = get_images_with_sorted_probabilities(prediction_table, True, 1, 10, False)\n",
        "message = 'Images with highest probability of containing dogs'\n",
        "display(most_confident_dog_images, message)\n",
        "\n",
        "least_confident_dog_images = get_images_with_sorted_probabilities(prediction_table, False, 1, 10, False)\n",
        "message = 'Images with lowest probability of containing dogs'\n",
        "display(least_confident_dog_images, message)\n",
        "\n",
        "incorrect_dog_images = get_images_with_sorted_probabilities(prediction_table, True, 1, 10, True)\n",
        "message = 'Images of cats with highest probability of containing dogs'\n",
        "display(incorrect_dog_images, message)"
      ],
      "execution_count": 0,
      "outputs": []
    }
  ]
}